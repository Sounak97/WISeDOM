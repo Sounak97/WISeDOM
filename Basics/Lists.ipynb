{
 "cells": [
  {
   "cell_type": "markdown",
   "metadata": {},
   "source": [
    "LISTS\n"
   ]
  },
  {
   "cell_type": "code",
   "execution_count": 1,
   "metadata": {},
   "outputs": [
    {
     "name": "stdout",
     "output_type": "stream",
     "text": [
      "['Jennifer', 'Python', 'Scarlett']\n",
      "[1, 2, 3, 4, 5]\n",
      "['A', 'q', 'E', 'z', 'Y']\n",
      "[]\n"
     ]
    }
   ],
   "source": [
    "# Simple Lists\n",
    "names = [\"Jennifer\", \"Python\", \"Scarlett\"]\n",
    "nums  = [1, 2, 3, 4, 5]\n",
    "chars = ['A', 'q', 'E', 'z', 'Y']\n",
    "e = []\n",
    "#Empty and of a single datatype\n",
    "print (names)\n",
    "print (nums)\n",
    "print (chars)\n",
    "print (e)"
   ]
  },
  {
   "cell_type": "code",
   "execution_count": 4,
   "metadata": {},
   "outputs": [
    {
     "name": "stdout",
     "output_type": "stream",
     "text": [
      "['Python', '9', 9, 12.9, 'Who', 'P', True]\n"
     ]
    }
   ],
   "source": [
    "# Can have multiple data types in one list\n",
    "rand_list = [\"Python\", '9', 9, 12.90, \"Who\",'P',True]\n",
    "print (rand_list)"
   ]
  },
  {
   "cell_type": "markdown",
   "metadata": {},
   "source": [
    "The elements on a list can be accessed from both the front and the back:\n",
    "FRONT  -  0-indexed data structure and can be accessed  using that index\n",
    "\n",
    "BACK - Would be appropriate to imagine it as a 1-indexed data structure\n",
    "\n",
    "Examples are as follows"
   ]
  },
  {
   "cell_type": "code",
   "execution_count": 7,
   "metadata": {},
   "outputs": [
    {
     "name": "stdout",
     "output_type": "stream",
     "text": [
      "Scarlett\n",
      "12.9\n",
      "Jennifer Who\n",
      "True\n",
      "P\n",
      "Python\n"
     ]
    }
   ],
   "source": [
    "# O-indexed, Front accesssing\n",
    "print (names[2])\n",
    "print (rand_list[3])\n",
    "print (names[0] + \" \" + rand_list[4].title())\n",
    "\n",
    "# Negetive indexes: Access elements from the end of the list without knowing the size of the list\n",
    "print (rand_list[-1]) # Returns the last element of the list [1st from the end]\n",
    "print (rand_list[-2])\n",
    "print(rand_list[-len(rand_list)])# Returns the 2nd last element\n",
    "# and so on.."
   ]
  },
  {
   "cell_type": "code",
   "execution_count": 8,
   "metadata": {},
   "outputs": [
    {
     "name": "stdout",
     "output_type": "stream",
     "text": [
      "['Python', 'is', 'great!']\n",
      "['Java', 'is', 'great!']\n"
     ]
    }
   ],
   "source": [
    "# Modifying elements in a list\n",
    "str_list = [\"Python\", \"is\", \"great!\"]\n",
    "\n",
    "print (str_list)\n",
    "str_list[0] = \"Java\"\n",
    "print (str_list)"
   ]
  },
  {
   "cell_type": "code",
   "execution_count": 9,
   "metadata": {},
   "outputs": [
    {
     "name": "stdout",
     "output_type": "stream",
     "text": [
      "['Java', 'is', 'great!', 'C++ rocks']\n"
     ]
    }
   ],
   "source": [
    "# Adding elements to a list\n",
    "# Use append() to add elements to the end of the list\n",
    "str_list.append ('C++ rocks')\n",
    "print (str_list)"
   ]
  },
  {
   "cell_type": "code",
   "execution_count": 10,
   "metadata": {},
   "outputs": [
    {
     "name": "stdout",
     "output_type": "stream",
     "text": [
      "['hi', 'I am', 'Sounak']\n"
     ]
    }
   ],
   "source": [
    "# So, you can build lists like this\n",
    "my_list = []\n",
    "my_list.append (\"hi\")\n",
    "my_list.append (\"I am\")\n",
    "my_list.append (\"Sounak\")\n",
    "print(my_list)"
   ]
  },
  {
   "cell_type": "code",
   "execution_count": 16,
   "metadata": {},
   "outputs": [
    {
     "name": "stdout",
     "output_type": "stream",
     "text": [
      "['Mr/Miss/Mrs', 'Mr/Miss/Mrs', 'Mr/Miss/Mrs', 'Mr/Miss/Mrs', 'Mr/Miss/Mrs', 'Mr/Miss/Mrs', 'hi', 'I am', 'Sounak', 'mybday', 'mybday', 'mybday', 'mybday', 'mybday']\n",
      "['Mr/Miss/Mrs', 'Mr/Miss/Mrs', 'Mr/Miss/Mrs', 'Mr/Miss/Mrs', 'Mr/Miss/Mrs', 'Mr/Miss/Mrs', 'hi', 'I am', 'Sounak', 'mybday', 'mybday', 'mybday', 'mybday', 'mybday', 'mybday']\n"
     ]
    }
   ],
   "source": [
    "# Insert elements at specific positions of the list\n",
    "# insert(index, element)\n",
    "my_list.insert (0, \"Mr/Miss/Mrs\")\n",
    "print (my_list)\n",
    "\n",
    "my_list.insert(50, \"mybday\")\n",
    "print (my_list)\n",
    "\n",
    "#can be done at any index\n",
    "#print(my_list[31])"
   ]
  },
  {
   "cell_type": "code",
   "execution_count": 18,
   "metadata": {},
   "outputs": [
    {
     "name": "stdout",
     "output_type": "stream",
     "text": [
      "['A', 'B', 'C', 'E', 'D']\n"
     ]
    }
   ],
   "source": [
    "# Using '-1' to insert at the end doesn't work and inserts element at the 2nd last position.\n",
    "my_list = ['A', 'B', 'C', 'D']\n",
    "my_list.insert (-1, 'E')\n",
    "print (my_list)\n",
    "#insertion - think of 0 index from the back"
   ]
  },
  {
   "cell_type": "code",
   "execution_count": 19,
   "metadata": {},
   "outputs": [
    {
     "name": "stdout",
     "output_type": "stream",
     "text": [
      "['A', 'B', 'C', 'D', 'E']\n",
      "['A', 'B', 'C', 'D', 'E']\n"
     ]
    }
   ],
   "source": [
    "# Insert elements at the end\n",
    "l1 = ['A', 'B', 'C', 'D']\n",
    "l2 = ['A', 'B', 'C', 'D']\n",
    "\n",
    "l1.append('E')\n",
    "l2.insert(len(my_list), 'E')\n",
    "print (l1)\n",
    "print (l2)"
   ]
  },
  {
   "cell_type": "code",
   "execution_count": 20,
   "metadata": {},
   "outputs": [
    {
     "name": "stdout",
     "output_type": "stream",
     "text": [
      "5\n"
     ]
    }
   ],
   "source": [
    "# Length of the list\n",
    "l1 = ['A', 'B', 'C', 'D', 'E']\n",
    "print (len(l1))"
   ]
  },
  {
   "cell_type": "code",
   "execution_count": 21,
   "metadata": {},
   "outputs": [
    {
     "name": "stdout",
     "output_type": "stream",
     "text": [
      "['A', 'B', 'C', 'D', 'E']\n",
      "['B', 'C', 'D', 'E']\n",
      "['B', 'C', 'D']\n"
     ]
    }
   ],
   "source": [
    "# # Removing elements from list\n",
    "# del can remove any element from list as long as you know its index\n",
    "l1 = ['A', 'B', 'C', 'D', 'E']\n",
    "print (l1)\n",
    "\n",
    "del l1[0]\n",
    "print (l1)\n",
    "\n",
    "del l1[-1]\n",
    "print (l1)"
   ]
  },
  {
   "cell_type": "code",
   "execution_count": 22,
   "metadata": {},
   "outputs": [
    {
     "name": "stdout",
     "output_type": "stream",
     "text": [
      "['A', 'B', 'C', 'D']\n",
      "E\n"
     ]
    }
   ],
   "source": [
    "# pop() can remove the last element from list when used without any arguments\n",
    "l1 = ['A', 'B', 'C', 'D', 'E']\n",
    "# pop() returns the last element, so c would store the popped element\n",
    "c = l1.pop()\n",
    "\n",
    "print (l1)\n",
    "print (c)"
   ]
  },
  {
   "cell_type": "code",
   "execution_count": 23,
   "metadata": {},
   "outputs": [
    {
     "name": "stdout",
     "output_type": "stream",
     "text": [
      "['B', 'C', 'D', 'E']\n",
      "A\n",
      "['B', 'C', 'D']\n",
      "E\n"
     ]
    }
   ],
   "source": [
    "# pop(n) -> Removes the element at index 'n' and returns it\n",
    "l1 = ['A', 'B', 'C', 'D', 'E']\n",
    "\n",
    "# Removes the element at 0 position and returns it\n",
    "c = l1.pop(0)\n",
    "print (l1)\n",
    "print (c)\n",
    "\n",
    "# Works as expected with negetive indexes\n",
    "c = l1.pop(-1)\n",
    "print (l1)\n",
    "print (c)"
   ]
  },
  {
   "cell_type": "code",
   "execution_count": 25,
   "metadata": {},
   "outputs": [
    {
     "name": "stdout",
     "output_type": "stream",
     "text": [
      "['Seriously, ', 'what', 'happened', 'to', 'C++', 'and', 'Java', '?']\n",
      "['Seriously, ', 'what', 'happened', 'to', 'C++', 'and', '?']\n",
      "['Seriously, ', 'what', 'happened', 'to', 'C++', '?']\n"
     ]
    }
   ],
   "source": [
    "# Removing an item by value\n",
    "# remove() only removes the first occurence of the value that is specified.\n",
    "q1 = [\"Seriously, \", \"what\", \"happened\", \"to\", \"C++\", \"and\", \"Java\", \"?\"]\n",
    "print (q1)\n",
    "\n",
    "q1.remove (\"Java\")\n",
    "print (q1)\n",
    "\n",
    "n1 = \"and\"\n",
    "q1.remove(n1)\n",
    "print (q1)"
   ]
  },
  {
   "cell_type": "code",
   "execution_count": 26,
   "metadata": {},
   "outputs": [
    {
     "name": "stdout",
     "output_type": "stream",
     "text": [
      "['A', 'B', 'C', 'D', 'E']\n",
      "[0, 1, 2, 4, 9.45, 12.01, 12.02, 16, 45.67, 90, 200]\n"
     ]
    }
   ],
   "source": [
    "# Sorting a list\n",
    "# sort() -> sorts list in increasing or decreasing order, *permantantly*\n",
    "# Sorts in alphabetical order\n",
    "l1 = ['E', 'D', 'C', 'B', 'A']\n",
    "l1.sort()\n",
    "print (l1)\n",
    "\n",
    "# Sorts in increasing order\n",
    "l2 = [2, 200, 16, 4, 1, 0, 9.45, 45.67, 90, 12.01, 12.02]\n",
    "l2.sort()\n",
    "print (l2)"
   ]
  },
  {
   "cell_type": "code",
   "execution_count": 27,
   "metadata": {},
   "outputs": [
    {
     "name": "stdout",
     "output_type": "stream",
     "text": [
      "['E', 'D', 'C', 'B', 'A']\n",
      "[200, 90, 45.67, 16, 12.02, 12.01, 9.45, 4, 2, 1, 0]\n"
     ]
    }
   ],
   "source": [
    "# Reverse sorts alphabetical order\n",
    "l1 = ['E', 'D', 'C', 'B', 'A']\n",
    "l1.sort(reverse=True)\n",
    "print (l1)\n",
    "\n",
    "# Sorts in decreasing order\n",
    "l2 = [2, 200, 16, 4, 1, 0, 9.45, 45.67, 90, 12.01, 12.02]\n",
    "l2.sort(reverse=True)\n",
    "print (l2)"
   ]
  },
  {
   "cell_type": "code",
   "execution_count": 28,
   "metadata": {},
   "outputs": [
    {
     "name": "stdout",
     "output_type": "stream",
     "text": [
      "[2, 200, 16, 4, 1, 0, 9.45, 45.67, 90, 12.01, 12.02]\n",
      "[0, 1, 2, 4, 9.45, 12.01, 12.02, 16, 45.67, 90, 200]\n",
      "[2, 200, 16, 4, 1, 0, 9.45, 45.67, 90, 12.01, 12.02]\n"
     ]
    }
   ],
   "source": [
    "# sorted() -> Sorts list in increasing or decreasing order, *temporarily*\n",
    "# Sorts in increasing order\n",
    "l2 = [2, 200, 16, 4, 1, 0, 9.45, 45.67, 90, 12.01, 12.02]\n",
    "print (l2)\n",
    "print (sorted(l2))\n",
    "print (l2)"
   ]
  },
  {
   "cell_type": "code",
   "execution_count": 29,
   "metadata": {},
   "outputs": [
    {
     "name": "stdout",
     "output_type": "stream",
     "text": [
      "[2, 200, 16, 4, 1, 0, 9.45, 45.67, 90, 12.01, 12.02]\n",
      "[200, 90, 45.67, 16, 12.02, 12.01, 9.45, 4, 2, 1, 0]\n",
      "[2, 200, 16, 4, 1, 0, 9.45, 45.67, 90, 12.01, 12.02]\n"
     ]
    }
   ],
   "source": [
    "# Sorts in decreasing order\n",
    "l2 = [2, 200, 16, 4, 1, 0, 9.45, 45.67, 90, 12.01, 12.02]\n",
    "print (l2)\n",
    "print (sorted(l2, reverse=True))\n",
    "print (l2)"
   ]
  },
  {
   "cell_type": "code",
   "execution_count": 30,
   "metadata": {},
   "outputs": [
    {
     "name": "stdout",
     "output_type": "stream",
     "text": [
      "['A', 'B', 'C', 'D', 'E']\n"
     ]
    }
   ],
   "source": [
    "# Reverse list\n",
    "l1 = ['E', 'D', 'C', 'B', 'A']\n",
    "l1.reverse()\n",
    "print (l1)"
   ]
  },
  {
   "cell_type": "raw",
   "metadata": {},
   "source": [
    "Itertion through lists\n",
    "\n"
   ]
  },
  {
   "cell_type": "code",
   "execution_count": 34,
   "metadata": {},
   "outputs": [
    {
     "name": "stdout",
     "output_type": "stream",
     "text": [
      "[12, 56]\n",
      "Jennifer\n",
      "12\n",
      "Python\n",
      "A\n",
      "56\n",
      "B\n",
      "2.12\n",
      "Scarlett\n"
     ]
    }
   ],
   "source": [
    "# while with lists\n",
    "l1 = [\"Jennifer\", 12, \"Python\", 'A', 56, 'B', 2.12, \"Scarlett\"]\n",
    "l2 = []\n",
    "i = 0\n",
    "while i < len(l1):\n",
    "    if type(l1[i]) == int:\n",
    "        l2.append(l1[i])\n",
    "    i += 1\n",
    "print (l2)\n",
    "\n",
    "i = 0\n",
    "while i is not len(l1):\n",
    "    print (l1[i])\n",
    "    i += 1\n",
    "    "
   ]
  },
  {
   "cell_type": "code",
   "execution_count": 32,
   "metadata": {},
   "outputs": [
    {
     "name": "stdout",
     "output_type": "stream",
     "text": [
      "['B', 'C', 'D', 'E', 'Q', 'Z', 'Q', 'D']\n"
     ]
    }
   ],
   "source": [
    "# Removing all instances of a specific value in list\n",
    "l1 = ['A', 'B', 'C', 'D', 'A', 'E', 'Q', 'A', 'Z', 'A', 'Q', 'D', 'A']\n",
    "while 'A' in l1: l1.remove('A')\n",
    "print (l1)"
   ]
  },
  {
   "cell_type": "code",
   "execution_count": 33,
   "metadata": {},
   "outputs": [
    {
     "name": "stdout",
     "output_type": "stream",
     "text": [
      "Scarlett\n",
      "is\n",
      "now\n",
      "back\n",
      "from\n",
      "her first\n",
      "Python\n",
      "lesson.\n"
     ]
    }
   ],
   "source": [
    "# Looping Through a list using for\n",
    "l1 = [\"Scarlett\", \"is\", \"now\", \"back\", \"from\", \"her first\", \"Python\", \"lesson.\"]\n",
    "\n",
    "# Do notice the indentations\n",
    "for each_word in l1:\n",
    "    print (each_word)"
   ]
  },
  {
   "cell_type": "code",
   "execution_count": 35,
   "metadata": {},
   "outputs": [
    {
     "name": "stdout",
     "output_type": "stream",
     "text": [
      "Guess how much Scarlett scored in her first lesson out of 5:\n",
      "A) 1\n",
      "B) 2\n",
      "C) 3\n",
      "D) 4\n",
      "E) 5\n"
     ]
    }
   ],
   "source": [
    "# Numerical lists\n",
    "# Note: range(n, m) will loop over numbers from n to m-1\n",
    "l1 = ['A', 'B', 'C', 'D', 'E']\n",
    "print (\"Guess how much Scarlett scored in her first lesson out of 5:\")\n",
    "for val in range(1, 6):\n",
    "    print (l1[val-1] + \") \" + str(val))"
   ]
  },
  {
   "cell_type": "code",
   "execution_count": 36,
   "metadata": {},
   "outputs": [
    {
     "name": "stdout",
     "output_type": "stream",
     "text": [
      "[1, 2, 3, 4, 5]\n"
     ]
    }
   ],
   "source": [
    "# Using range() to make a list of numbers\n",
    "num_list = list(range(1, 6))\n",
    "print (num_list)"
   ]
  },
  {
   "cell_type": "code",
   "execution_count": 37,
   "metadata": {},
   "outputs": [
    {
     "name": "stdout",
     "output_type": "stream",
     "text": [
      "[10, 15, 20, 25, 30, 35, 40, 45, 50]\n"
     ]
    }
   ],
   "source": [
    "# Use range() to skip values at intervals\n",
    "# range (num_to_start_from, num_to_end_at+1, interval)\n",
    "l1 = list(range(10, 51, 5))\n",
    "print (l1)"
   ]
  },
  {
   "cell_type": "code",
   "execution_count": 38,
   "metadata": {},
   "outputs": [
    {
     "name": "stdout",
     "output_type": "stream",
     "text": [
      "Sum: 107\n",
      "Max: 45\n",
      "Min: 1\n"
     ]
    }
   ],
   "source": [
    "# Operations with list of numbers with -> min() max() sum()\n",
    "l1 = [2, 3, 4, 45, 1, 5, 6, 3, 1, 23, 14]\n",
    "\n",
    "print (\"Sum: \" + str(sum(l1)))\n",
    "print (\"Max: \" + str(max(l1)))\n",
    "print (\"Min: \" + str(min(l1)))"
   ]
  },
  {
   "cell_type": "code",
   "execution_count": 39,
   "metadata": {},
   "outputs": [
    {
     "name": "stdout",
     "output_type": "stream",
     "text": [
      "[20, 21, 22, 23, 24, 25, 26, 27, 28, 29]\n",
      "[21, 22, 23, 24, 25, 26, 27, 28, 29, 30]\n",
      "[[2, 4], [5, 25], [8, 64], [11, 121]]\n"
     ]
    }
   ],
   "source": [
    "# List Comprehensions\n",
    "# Simple\n",
    "l1 = [i for i in range(20, 30, 1)]\n",
    "l2 = [i+1 for i in range(20, 30, 1)]\n",
    "l3 = [[i, i**2] for i in range(2, 12, 3)]\n",
    "print (l1)\n",
    "print (l2)\n",
    "print (l3)"
   ]
  },
  {
   "cell_type": "code",
   "execution_count": 40,
   "metadata": {},
   "outputs": [
    {
     "name": "stdout",
     "output_type": "stream",
     "text": [
      "[[1, 3, 6], [1, 3, 7], [1, 3, 8], [1, 4, 6], [1, 4, 7], [1, 4, 8], [1, 5, 6], [1, 5, 7], [1, 5, 8], [2, 3, 6], [2, 3, 7], [2, 3, 8], [2, 4, 6], [2, 4, 7], [2, 4, 8], [2, 5, 6], [2, 5, 7], [2, 5, 8]]\n"
     ]
    }
   ],
   "source": [
    "# A few more list comprehension examples\n",
    "equi_list_1 = [[x, y, z] for x in range(1, 3) for y in range(3, 6) for z in range(6, 9)]\n",
    "print (equi_list_1)"
   ]
  },
  {
   "cell_type": "code",
   "execution_count": 41,
   "metadata": {},
   "outputs": [
    {
     "name": "stdout",
     "output_type": "stream",
     "text": [
      "[[1, 3, 6], [1, 3, 7], [1, 3, 8], [1, 4, 6], [1, 4, 7], [1, 4, 8], [1, 5, 6], [1, 5, 7], [1, 5, 8], [2, 3, 6], [2, 3, 7], [2, 3, 8], [2, 4, 6], [2, 4, 7], [2, 4, 8], [2, 5, 6], [2, 5, 7], [2, 5, 8]]\n"
     ]
    }
   ],
   "source": [
    "# The above list comprehension is equivalent of the following code\n",
    "equi_list_2 = []\n",
    "for x in range(1, 3):\n",
    "    for y in range(3, 6):\n",
    "        for z in range(6, 9):\n",
    "            equi_list_2.append([x, y, z])\n",
    "print (equi_list_2)"
   ]
  },
  {
   "cell_type": "code",
   "execution_count": 42,
   "metadata": {},
   "outputs": [
    {
     "name": "stdout",
     "output_type": "stream",
     "text": [
      "True\n"
     ]
    }
   ],
   "source": [
    "# Proof of equivalence  (Do execute the above two blocks of code before running this)\n",
    "print (equi_list_1 == equi_list_2)"
   ]
  },
  {
   "cell_type": "code",
   "execution_count": 44,
   "metadata": {},
   "outputs": [],
   "source": [
    "#print(equi_list_2.shape)\n",
    "#important numpy function"
   ]
  },
  {
   "cell_type": "code",
   "execution_count": 45,
   "metadata": {},
   "outputs": [
    {
     "name": "stdout",
     "output_type": "stream",
     "text": [
      "[0, 'blank', 'blank', 'blank', 'blank', 5, 'blank', 'blank', 'blank', 'blank', 10, 'blank', 'blank', 'blank', 'blank', 15, 'blank', 'blank', 'blank', 'blank']\n"
     ]
    }
   ],
   "source": [
    "l1 = [x if x%5==0 else \"blank\" for x in range(20)]\n",
    "print (l1)"
   ]
  },
  {
   "cell_type": "code",
   "execution_count": 46,
   "metadata": {},
   "outputs": [
    {
     "name": "stdout",
     "output_type": "stream",
     "text": [
      "[2:5] --> ['now', 'friends', 'with']\n",
      "[:4]  --> ['Python', 'is', 'now', 'friends']\n",
      "[2:]  --> ['now', 'friends', 'with', 'Java']\n",
      "[:]   --> ['Python', 'is', 'now', 'friends', 'with', 'Java']\n"
     ]
    }
   ],
   "source": [
    "# Slicing a list\n",
    "l1 = [\"Python\", \"is\", \"now\", \"friends\", \"with\", \"Java\"]\n",
    "\n",
    "# [start_index : end_index+1]\n",
    "print(\"[2:5] --> \" + str(l1[2:5]))\n",
    "print(\"[:4]  --> \" + str(l1[:4]))  # everthing before 4th index [excluding the 4th]\n",
    "print(\"[2:]  --> \" + str(l1[2:]))  # everything from 2nd index [including the 2nd]\n",
    "print(\"[:]   --> \" + str(l1[:]))   # every element in the list"
   ]
  },
  {
   "cell_type": "code",
   "execution_count": 47,
   "metadata": {},
   "outputs": [
    {
     "name": "stdout",
     "output_type": "stream",
     "text": [
      "[-2:]   --> ['Pythonistas', '!']\n",
      "[:-3]   --> ['Jennifer', 'and', 'Scarlett']\n",
      "[-5:-2] --> ['and', 'Scarlett', 'now']\n",
      "[-4:-6] --> []\n"
     ]
    }
   ],
   "source": [
    "# Some more slicing\n",
    "l1 = [\"Jennifer\", \"and\", \"Scarlett\", \"now\", \"Pythonistas\", \"!\"]\n",
    "\n",
    "print (\"[-2:]   --> \" + str(l1[-2:]))\n",
    "print (\"[:-3]   --> \" + str(l1[:-3]))\n",
    "print (\"[-5:-2] --> \" + str(l1[-5:-2]))\n",
    "print (\"[-4:-6] --> \" + str(l1[-4:-6]))"
   ]
  },
  {
   "cell_type": "code",
   "execution_count": 48,
   "metadata": {},
   "outputs": [
    {
     "name": "stdout",
     "output_type": "stream",
     "text": [
      "PYTHONISTAS\n",
      "ROCK\n",
      "!!!\n"
     ]
    }
   ],
   "source": [
    "# Looping through a slice\n",
    "l1 = [\"Pythonistas\", \"rock\", \"!!!\", \"XD\"]\n",
    "for w in l1[-4:-1]:\n",
    "    print (w.upper())"
   ]
  },
  {
   "cell_type": "code",
   "execution_count": 49,
   "metadata": {},
   "outputs": [
    {
     "name": "stdout",
     "output_type": "stream",
     "text": [
      "['We', 'should', 'use', '[:]', 'to', 'copy', 'the', 'whole', 'list']\n"
     ]
    }
   ],
   "source": [
    "# Copying a list\n",
    "l1 = [\"We\", \"should\", \"use\", \"[:]\", \"to\", \"copy\", \"the\", \"whole\", \"list\"]\n",
    "l2 = l1[:]\n",
    "print(l2)"
   ]
  },
  {
   "cell_type": "code",
   "execution_count": 50,
   "metadata": {},
   "outputs": [
    {
     "name": "stdout",
     "output_type": "stream",
     "text": [
      "['We', 'should', 'use', '[:]', 'to', 'copy', 'the', 'whole', 'list']\n",
      "['We', 'should', 'use', '[:]', 'to', 'copy', 'the', 'whole', 'list', '. Using [:] ensures the two lists are different']\n"
     ]
    }
   ],
   "source": [
    "# Proof that the above two lists are different\n",
    "l2.append(\". Using [:] ensures the two lists are different\")\n",
    "\n",
    "print (l1)\n",
    "print (l2)"
   ]
  },
  {
   "cell_type": "code",
   "execution_count": 51,
   "metadata": {},
   "outputs": [
    {
     "name": "stdout",
     "output_type": "stream",
     "text": [
      "['Jennifer', 'now', 'wonders', 'what', 'happens', 'if', 'we', 'directly', 'assign.', 'Both variables point to the same list']\n",
      "['Jennifer', 'now', 'wonders', 'what', 'happens', 'if', 'we', 'directly', 'assign.', 'Both variables point to the same list']\n"
     ]
    }
   ],
   "source": [
    "# What happens if we directly assign one list to the other instead of using slices\n",
    "l1 = [\"Jennifer\", \"now\", \"wonders\", \"what\", \"happens\", \"if\", \"we\", \"directly\", \"assign.\"]\n",
    "l2 = l1\n",
    "l2.append(\"Both variables point to the same list\")\n",
    "\n",
    "print (l1)\n",
    "print (l2)"
   ]
  },
  {
   "cell_type": "code",
   "execution_count": null,
   "metadata": {},
   "outputs": [],
   "source": []
  }
 ],
 "metadata": {
  "kernelspec": {
   "display_name": "Python 3",
   "language": "python",
   "name": "python3"
  },
  "language_info": {
   "codemirror_mode": {
    "name": "ipython",
    "version": 3
   },
   "file_extension": ".py",
   "mimetype": "text/x-python",
   "name": "python",
   "nbconvert_exporter": "python",
   "pygments_lexer": "ipython3",
   "version": "3.7.4"
  }
 },
 "nbformat": 4,
 "nbformat_minor": 2
}
