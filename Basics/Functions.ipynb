{
 "cells": [
  {
   "cell_type": "markdown",
   "metadata": {},
   "source": [
    "FUNCTIONS"
   ]
  },
  {
   "cell_type": "code",
   "execution_count": 1,
   "metadata": {},
   "outputs": [
    {
     "name": "stdout",
     "output_type": "stream",
     "text": [
      "Hello world!\n",
      "Hello world!\n"
     ]
    }
   ],
   "source": [
    "# Function definition\n",
    "def a_func():\n",
    "    print (\"Hello world!\")\n",
    "\n",
    "# Function Call\n",
    "a_func()\n",
    "a_func()"
   ]
  },
  {
   "cell_type": "code",
   "execution_count": 2,
   "metadata": {},
   "outputs": [
    {
     "name": "stdout",
     "output_type": "stream",
     "text": [
      "5\n",
      "47\n"
     ]
    }
   ],
   "source": [
    "# Passing arguments to functions\n",
    "def add_two(num):\n",
    "    print (int(num)+2)\n",
    "\n",
    "add_two (3)\n",
    "add_two (\"45\") # This will work as we are casting the passed parameter to Integer"
   ]
  },
  {
   "cell_type": "code",
   "execution_count": 3,
   "metadata": {},
   "outputs": [
    {
     "name": "stdout",
     "output_type": "stream",
     "text": [
      "Added 2 to : 45\n",
      "Answer: 47\n",
      "Subtracted 3 from : 67\n",
      "Answer: 65\n",
      "Added 2 to : -156745\n",
      "Answer: -156743\n",
      "Subtracted 3 from : 12131\n",
      "Answer: 12129\n"
     ]
    }
   ],
   "source": [
    "# Multiple arguments\n",
    "def add_sub(add_two, sub_two):\n",
    "    print (\"Added 2 to : \" + str(add_two))\n",
    "    print (\"Answer: \" + str(int(add_two)+2))\n",
    "    \n",
    "    print (\"Subtracted 3 from : \" + str(sub_two))\n",
    "    print (\"Answer: \" + str(int(sub_two)-2))\n",
    "    \n",
    "add_sub (45, \"67\")\n",
    "add_sub (\"-156745\", 12131)"
   ]
  },
  {
   "cell_type": "code",
   "execution_count": 5,
   "metadata": {},
   "outputs": [
    {
     "name": "stdout",
     "output_type": "stream",
     "text": [
      "I am coding in Python\n",
      "Python am coding in I\n"
     ]
    }
   ],
   "source": [
    "# Ordering of passed argument matters\n",
    "def coding_in(name, language):\n",
    "    print (str(name) + \" am coding in \" + str(language))\n",
    "    \n",
    "coding_in(\"I\", \"Python\")\n",
    "# If you change the order, results are unexpected\n",
    "coding_in(\"Python\", \"I\")"
   ]
  },
  {
   "cell_type": "code",
   "execution_count": 7,
   "metadata": {},
   "outputs": [
    {
     "name": "stdout",
     "output_type": "stream",
     "text": [
      "I am coding in Python\n",
      "I am coding in Python\n"
     ]
    }
   ],
   "source": [
    "# Keyword Arguments\n",
    "# Pass the argumnets as key:value pairs, so even if unordered it won't produce unexpected results\n",
    "def coding_in(name, language):\n",
    "    print (str(name) + \" am coding in \" + str(language))\n",
    "    \n",
    "coding_in(name=\"I\", language=\"Python\")\n",
    "# If you change the order, results are same\n",
    "coding_in(language=\"Python\", name=\"I\")"
   ]
  },
  {
   "cell_type": "code",
   "execution_count": 9,
   "metadata": {},
   "outputs": [
    {
     "name": "stdout",
     "output_type": "stream",
     "text": [
      "I am coding in Python\n",
      "I am coding in R\n"
     ]
    }
   ],
   "source": [
    "# Default Values for parameters\n",
    "# Note: If you do not pass arguments required by the function and that argument does not have a default value, \n",
    "#       then python will throw an error\n",
    "def coding_in(name, language=\"Python\"):\n",
    "    print (str(name) + \" am coding in \" + str(language))\n",
    "    \n",
    "coding_in(\"I\") # Since 2nd argument is not passed, it takes on the default parameter given\n",
    "coding_in(\"I\", \"R\") # Since 2nd argument is passed, it takes on the passed arguemnt"
   ]
  },
  {
   "cell_type": "code",
   "execution_count": 10,
   "metadata": {},
   "outputs": [
    {
     "ename": "SyntaxError",
     "evalue": "non-default argument follows default argument (<ipython-input-10-926e40948d01>, line 3)",
     "output_type": "error",
     "traceback": [
      "\u001b[0;36m  File \u001b[0;32m\"<ipython-input-10-926e40948d01>\"\u001b[0;36m, line \u001b[0;32m3\u001b[0m\n\u001b[0;31m    def coding_in(name, language1=\"Python\", language2):\u001b[0m\n\u001b[0m                 ^\u001b[0m\n\u001b[0;31mSyntaxError\u001b[0m\u001b[0;31m:\u001b[0m non-default argument follows default argument\n"
     ]
    }
   ],
   "source": [
    "# Note: You cannot have parameters with no default value after parameters having default value\n",
    "# Following is an error\n",
    "def coding_in(name, language1=\"Python\", language2):\n",
    "    print (str(name) + \" is coding in \" + str(language1) + \" and \" + str(language2))\n",
    "\n",
    "coding_in(\"Jennifer\", \"Python\", \"R\")"
   ]
  },
  {
   "cell_type": "code",
   "execution_count": 13,
   "metadata": {},
   "outputs": [
    {
     "name": "stdout",
     "output_type": "stream",
     "text": [
      "I am coding in R and Python\n",
      "I am coding in Python and R\n"
     ]
    }
   ],
   "source": [
    "# Easy fix to above error is to declare all non-default parameters, \n",
    "# and then start declaring the default parameters\n",
    "# Note: Default parameters can be used to make an argument optional\n",
    "def coding_in(name, language2, language1=\"Python\"):\n",
    "    print (str(name) + \" am coding in \" + str(language1) + \" and \" + str(language2))\n",
    "\n",
    "coding_in(\"I\", \"Python\", \"R\")\n",
    "coding_in(\"I\", \"R\")"
   ]
  },
  {
   "cell_type": "code",
   "execution_count": 14,
   "metadata": {},
   "outputs": [
    {
     "name": "stdout",
     "output_type": "stream",
     "text": [
      "I am coding in Python and R\n"
     ]
    }
   ],
   "source": [
    "# All parameters can be default\n",
    "def coding_in(name=\"I\", language1=\"Python\", language2=\"R\"):\n",
    "    print (str(name) + \" am coding in \" + str(language1) + \" and \" + str(language2))\n",
    "\n",
    "coding_in()"
   ]
  },
  {
   "cell_type": "code",
   "execution_count": 15,
   "metadata": {},
   "outputs": [
    {
     "name": "stdout",
     "output_type": "stream",
     "text": [
      "34^4 = 1336336\n",
      "23^4 = 279841\n"
     ]
    }
   ],
   "source": [
    "# return\n",
    "def pow_4(num):\n",
    "    return num**4\n",
    "\n",
    "v1 = pow_4(34) # v1 now stores 34^4\n",
    "v2 = pow_4(23) # v2 now stores 23^4\n",
    "\n",
    "print (\"34^4 = \" + str(v1))\n",
    "print (\"23^4 = \" + str(v2))"
   ]
  },
  {
   "cell_type": "code",
   "execution_count": 16,
   "metadata": {},
   "outputs": [
    {
     "name": "stdout",
     "output_type": "stream",
     "text": [
      "{'name': 'Linus', 'age': '22', 'language': 'Python'}\n"
     ]
    }
   ],
   "source": [
    "# can return any data type or object from function\n",
    "def make_a_coder(name, age, language):\n",
    "    d1 = {'name': name, \n",
    "          'age' : age,\n",
    "          'language' : language}\n",
    "    return d1\n",
    "\n",
    "print(make_a_coder(\"Linus\", \"22\", \"Python\"))"
   ]
  },
  {
   "cell_type": "code",
   "execution_count": 17,
   "metadata": {},
   "outputs": [
    {
     "name": "stdout",
     "output_type": "stream",
     "text": [
      "Name    \tLanguage  \tAge\n",
      "========\t==========\t===\n",
      "A\tPython\t\t21\n",
      "B\tR\t\t21\n",
      "\n",
      "2 coders found!\n"
     ]
    }
   ],
   "source": [
    "# can pass any data type or object to function\n",
    "def make_many_coders(list_of_coders):\n",
    "    print (\"Name    \\tLanguage  \\tAge\")\n",
    "    print (\"========\\t==========\\t===\")\n",
    "    for coder,details in list_of_coders.items():\n",
    "        print (str(coder) + \"\\t\" + str(details[0]) + \"\\t\\t\" + str(details[-1]))\n",
    "    \n",
    "    return str(len(list_of_coders))\n",
    "\n",
    "d1 = {\"A\": [\"Python\", 21],\n",
    "      \"B\": [\"R\", 21]}\n",
    "print ('\\n' + make_many_coders(d1) + \" coders found!\")"
   ]
  },
  {
   "cell_type": "code",
   "execution_count": 18,
   "metadata": {},
   "outputs": [
    {
     "name": "stdout",
     "output_type": "stream",
     "text": [
      "['Python', 'R']\n",
      "['Python', 'R', 'Julia']\n"
     ]
    }
   ],
   "source": [
    "# If a list passed to a function is changed inside the function then the change is permanent\n",
    "def make_language_list(language_list, new_language):\n",
    "    language_list.append(new_language)\n",
    "    \n",
    "lang_list = [\"Python\", \"R\"]\n",
    "print (lang_list)\n",
    "\n",
    "make_language_list(lang_list, \"Julia\")\n",
    "print (lang_list)"
   ]
  },
  {
   "cell_type": "code",
   "execution_count": 19,
   "metadata": {},
   "outputs": [
    {
     "name": "stdout",
     "output_type": "stream",
     "text": [
      "['Python', 'R']\n",
      "['Python', 'R']\n"
     ]
    }
   ],
   "source": [
    "# Preventing a function from modifying a list\n",
    "def make_language_list(language_list, new_language):\n",
    "    language_list.append(new_language)\n",
    "    \n",
    "lang_list = [\"Python\", \"R\"]\n",
    "print (lang_list)\n",
    "\n",
    "make_language_list(lang_list[:], \"Julia\")\n",
    "print (lang_list)"
   ]
  },
  {
   "cell_type": "code",
   "execution_count": 20,
   "metadata": {},
   "outputs": [
    {
     "name": "stdout",
     "output_type": "stream",
     "text": [
      "('Python',)\n",
      "('Python', 'R', 'Julia', 'Ruby', 'Go')\n"
     ]
    }
   ],
   "source": [
    "# Passing Arbitrary number of arguments\n",
    "# The '*' tells Python to make a tuple of whatever number of arguments it receives at that position\n",
    "def languages(*many_languages): \n",
    "    print (many_languages)\n",
    "    \n",
    "languages (\"Python\")\n",
    "languages (\"Python\", \"R\", \"Julia\", \"Ruby\", \"Go\")"
   ]
  },
  {
   "cell_type": "code",
   "execution_count": 21,
   "metadata": {},
   "outputs": [
    {
     "name": "stdout",
     "output_type": "stream",
     "text": [
      "Jennifer knows: ('Python',)\n",
      "Jennifer knows: ('Python', 'R', 'Julia', 'Ruby')\n"
     ]
    }
   ],
   "source": [
    "# Passing Arbitrary number of arguments with a normal argument\n",
    "# Note: The parameter that accepts arbitrary number of arguments needs to be placed at last\n",
    "def knows_languages(name, *languages):\n",
    "    print (str(name) +  \" knows: \" + str(languages))\n",
    "    \n",
    "knows_languages(\"Jennifer\", \"Python\")\n",
    "knows_languages(\"Jennifer\", \"Python\", \"R\", \"Julia\", \"Ruby\")"
   ]
  },
  {
   "cell_type": "code",
   "execution_count": 22,
   "metadata": {},
   "outputs": [
    {
     "ename": "SyntaxError",
     "evalue": "invalid syntax (<ipython-input-22-c96dcea8b8b1>, line 2)",
     "output_type": "error",
     "traceback": [
      "\u001b[0;36m  File \u001b[0;32m\"<ipython-input-22-c96dcea8b8b1>\"\u001b[0;36m, line \u001b[0;32m2\u001b[0m\n\u001b[0;31m    def knows_languages_and_modules(name, *languages, *modules):\u001b[0m\n\u001b[0m                                                      ^\u001b[0m\n\u001b[0;31mSyntaxError\u001b[0m\u001b[0;31m:\u001b[0m invalid syntax\n"
     ]
    }
   ],
   "source": [
    "# Hence, following is an error!\n",
    "def knows_languages_and_modules(name, *languages, *modules):\n",
    "    print (str(name) +  \" knows: \" + str(languages))\n",
    "    \n",
    "knows_languages(\"Jennifer\", \"Python\", \"PyGtk\")\n",
    "knows_languages(\"Jennifer\", \"Python\", \"R\", \"Julia\", \"Ruby\", \"PyGtk\", \"PyGame\", \"audioop\")"
   ]
  },
  {
   "cell_type": "code",
   "execution_count": 23,
   "metadata": {},
   "outputs": [
    {
     "name": "stdout",
     "output_type": "stream",
     "text": [
      "{'name': 'Jennifer', 'location': 'California', 'age': '21', 'language': ('Python', 'R')}\n",
      "{'name': 'Jennifer', 'location': 'California', 'age': '21', 'language': ('Python', 'R')}\n"
     ]
    }
   ],
   "source": [
    "# Using Arbitrary Keyword Argument\n",
    "# Note: '**' tells Python to create a dictionary of the extra arguments passed after the first required positional argument\n",
    "def make_a_coder(name, **details):\n",
    "    coder = {}\n",
    "    coder[\"name\"] = name;\n",
    "    for key, value in details.items():\n",
    "        coder[key] = value\n",
    "    return coder\n",
    "\n",
    "print (make_a_coder(\"Jennifer\", location=\"California\", age=\"21\", language=(\"Python\", \"R\")))\n",
    "\n",
    "# We can do this since we are using keyword arguments\n",
    "print (make_a_coder(location=\"California\", age=\"21\", language=(\"Python\", \"R\"), name=\"Jennifer\"))"
   ]
  },
  {
   "cell_type": "code",
   "execution_count": null,
   "metadata": {},
   "outputs": [],
   "source": []
  }
 ],
 "metadata": {
  "kernelspec": {
   "display_name": "Python 3",
   "language": "python",
   "name": "python3"
  },
  "language_info": {
   "codemirror_mode": {
    "name": "ipython",
    "version": 3
   },
   "file_extension": ".py",
   "mimetype": "text/x-python",
   "name": "python",
   "nbconvert_exporter": "python",
   "pygments_lexer": "ipython3",
   "version": "3.7.4"
  }
 },
 "nbformat": 4,
 "nbformat_minor": 2
}
