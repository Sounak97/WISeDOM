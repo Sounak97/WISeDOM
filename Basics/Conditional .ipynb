{
 "cells": [
  {
   "cell_type": "markdown",
   "metadata": {},
   "source": [
    "CONDITIONAL STATEMENTS\n",
    "\n"
   ]
  },
  {
   "cell_type": "code",
   "execution_count": 44,
   "metadata": {},
   "outputs": [
    {
     "name": "stdout",
     "output_type": "stream",
     "text": [
      "A exists\n"
     ]
    }
   ],
   "source": [
    "a =True\n",
    "if a:\n",
    "    print(\"A exists\")\n",
    "    #a = False\n",
    "else:\n",
    "    print(\"A does not exist\")\n",
    "#Since a is a boolean with True value, just passing the variable is satisfying the if statement  \n",
    "a1 = 10"
   ]
  },
  {
   "cell_type": "code",
   "execution_count": 45,
   "metadata": {},
   "outputs": [
    {
     "name": "stdout",
     "output_type": "stream",
     "text": [
      "Just 10 or Just below\n"
     ]
    }
   ],
   "source": [
    "#if..elif...else\n",
    "if a1<=10:\n",
    "    print(\"Just 10 or Just below\")\n",
    "    a1 = a1+1\n",
    "elif (a1>10 & a1<=15):\n",
    "    print(\"Between 10 and 15\")\n",
    "    a1 = a1+1\n",
    "else:\n",
    "    print(\"Over 15\")\n",
    "\n"
   ]
  },
  {
   "cell_type": "code",
   "execution_count": 46,
   "metadata": {},
   "outputs": [
    {
     "name": "stdout",
     "output_type": "stream",
     "text": [
      "10\n"
     ]
    }
   ],
   "source": [
    "#one liner if\n",
    "v1 = 5\n",
    "x = 10 if v1 == 5 else 13\n",
    "print (x)"
   ]
  },
  {
   "cell_type": "code",
   "execution_count": 28,
   "metadata": {},
   "outputs": [
    {
     "name": "stdout",
     "output_type": "stream",
     "text": [
      "False\n",
      "True\n",
      "True\n",
      "False\n",
      "False\n",
      "True\n"
     ]
    }
   ],
   "source": [
    "a1 = \"Programming\"\n",
    "a2 = \"Python\"\n",
    "a3 = 45\n",
    "a4 = 67\n",
    "a5 = 45\n",
    "\n",
    "# Test for equality\n",
    "print (a1 == a2)\n",
    "\n",
    "# Test for greater than and greater than equal\n",
    "print (a4 > a3)\n",
    "print (a5 >= a3)\n",
    "\n",
    "# Test for lesser than and lesser than equal\n",
    "print (a4 < a3)\n",
    "print (a5 < a3)\n",
    "\n",
    "# Inequality\n",
    "print (a1 != a2)\n",
    "pri"
   ]
  },
  {
   "cell_type": "code",
   "execution_count": 47,
   "metadata": {},
   "outputs": [
    {
     "name": "stdout",
     "output_type": "stream",
     "text": [
      "False\n",
      "True\n",
      "True\n"
     ]
    }
   ],
   "source": [
    "v1 = 45\n",
    "v2 = \"45\"\n",
    "print (v1 == v2) # False\n",
    "print (str(v1) == v2) # True\n",
    "print(v1==int(v2))"
   ]
  },
  {
   "cell_type": "code",
   "execution_count": 48,
   "metadata": {},
   "outputs": [
    {
     "name": "stdout",
     "output_type": "stream",
     "text": [
      "False\n",
      "True\n",
      "True\n"
     ]
    }
   ],
   "source": [
    "s1 = \"Python\"\n",
    "s2 = \"python\"\n",
    "\n",
    "print (s1 == s2) # False\n",
    "print (s1.lower() == s2.lower()) # True\n",
    "# OR\n",
    "print (s1.upper() == s2.upper()) # True"
   ]
  },
  {
   "cell_type": "code",
   "execution_count": 49,
   "metadata": {},
   "outputs": [
    {
     "name": "stdout",
     "output_type": "stream",
     "text": [
      "False\n",
      "True\n"
     ]
    }
   ],
   "source": [
    "# 'and' -> evaluates true when both conditions need to be True\n",
    "print (s1 == \"python\" and s2 == \"Python\")\n",
    "# 'or' -> evaluates true when any one condition is True\n",
    "print (s1 == \"Python\" or s2 == \"python\")\n",
    "\n"
   ]
  },
  {
   "cell_type": "markdown",
   "metadata": {},
   "source": [
    "IMPORTANT NOTE : \n",
    "When making comparisons with string with '>' or '<' The strings are compared lexographically."
   ]
  },
  {
   "cell_type": "code",
   "execution_count": 50,
   "metadata": {},
   "outputs": [
    {
     "name": "stdout",
     "output_type": "stream",
     "text": [
      "True\n",
      "False\n"
     ]
    }
   ],
   "source": [
    "s1 = \"Python\"\n",
    "s2 = \"Programming\"\n",
    "\n",
    "print(s1>s2)\n",
    "print (s1<s2)"
   ]
  },
  {
   "cell_type": "code",
   "execution_count": 51,
   "metadata": {},
   "outputs": [
    {
     "name": "stdout",
     "output_type": "stream",
     "text": [
      "False\n",
      "True\n"
     ]
    }
   ],
   "source": [
    "s3 = \"apple\"\n",
    "s4 = \"ball\"\n",
    "print(s3>s4)\n",
    "print(s3<s4)"
   ]
  },
  {
   "cell_type": "code",
   "execution_count": 52,
   "metadata": {},
   "outputs": [
    {
     "name": "stdout",
     "output_type": "stream",
     "text": [
      "True\n",
      "True\n",
      "True\n",
      "True\n",
      "True\n",
      "False\n",
      "False\n",
      "False\n"
     ]
    }
   ],
   "source": [
    "#Checking whether the value is present\n",
    "#USing a List datastructure \n",
    "#we use the \"in\" keyword\n",
    "l = [10,20,30,\"Python\",\"peer\"]\n",
    "print(10 in l)\n",
    "print(20 in l)\n",
    "print(30 in l)\n",
    "print(\"Python\" in l)\n",
    "print(\"peer\" in l)\n",
    "\n",
    "print(1 in l)\n",
    "print(50 in l)\n",
    "print(\"Programming\" in l)"
   ]
  },
  {
   "cell_type": "code",
   "execution_count": 53,
   "metadata": {},
   "outputs": [
    {
     "name": "stdout",
     "output_type": "stream",
     "text": [
      "2\n"
     ]
    }
   ],
   "source": [
    "l1 = []\n",
    "l2 = [\"Python\"]\n",
    "\n",
    "if l1:\n",
    "    print (1)\n",
    "elif l2:\n",
    "    print (2)"
   ]
  },
  {
   "cell_type": "code",
   "execution_count": 54,
   "metadata": {},
   "outputs": [
    {
     "name": "stdout",
     "output_type": "stream",
     "text": [
      "1\n"
     ]
    }
   ],
   "source": [
    "#Although all are satisfied, the other 2 are not checked.\n",
    "if 10 in l and 'A' not in l1: # Note: use of 'not'\n",
    "    print (\"1\")\n",
    "elif 3 >= l[0]: # True\n",
    "    print (\"2\")\n",
    "elif 2.45 < l[1]: # True\n",
    "    print (\"3\")"
   ]
  },
  {
   "cell_type": "code",
   "execution_count": null,
   "metadata": {},
   "outputs": [],
   "source": []
  }
 ],
 "metadata": {
  "kernelspec": {
   "display_name": "Python 3",
   "language": "python",
   "name": "python3"
  },
  "language_info": {
   "codemirror_mode": {
    "name": "ipython",
    "version": 3
   },
   "file_extension": ".py",
   "mimetype": "text/x-python",
   "name": "python",
   "nbconvert_exporter": "python",
   "pygments_lexer": "ipython3",
   "version": "3.7.4"
  }
 },
 "nbformat": 4,
 "nbformat_minor": 2
}
