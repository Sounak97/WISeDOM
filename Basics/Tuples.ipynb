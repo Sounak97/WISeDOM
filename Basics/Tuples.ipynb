{
 "cells": [
  {
   "cell_type": "markdown",
   "metadata": {},
   "source": [
    "TUPLES\n"
   ]
  },
  {
   "cell_type": "code",
   "execution_count": 2,
   "metadata": {},
   "outputs": [
    {
     "name": "stdout",
     "output_type": "stream",
     "text": [
      "(23, 45)\n",
      "45\n"
     ]
    }
   ],
   "source": [
    "# Tuples are list, the elements stored in which cannot be changed.\n",
    "t1 = (23, 45)\n",
    "print (t1)\n",
    "print (t1[1])"
   ]
  },
  {
   "cell_type": "code",
   "execution_count": 4,
   "metadata": {},
   "outputs": [
    {
     "name": "stdout",
     "output_type": "stream",
     "text": [
      "(1, 2, 3, 4, 5, 6, 7)\n",
      "5\n"
     ]
    },
    {
     "data": {
      "text/plain": [
       "'\\nt1[0] = 10\\nprint(t1)'"
      ]
     },
     "execution_count": 4,
     "metadata": {},
     "output_type": "execute_result"
    }
   ],
   "source": [
    "t1 = (1, 2, 3, 4, 5, 6, 7)\n",
    "print (t1)\n",
    "print (t1[4])\n",
    "'''\n",
    "t1[0] = 10\n",
    "print(t1)'''"
   ]
  },
  {
   "cell_type": "code",
   "execution_count": 5,
   "metadata": {},
   "outputs": [
    {
     "name": "stdout",
     "output_type": "stream",
     "text": [
      "34\n",
      "12\n",
      "56\n",
      "78\n",
      "89\n"
     ]
    }
   ],
   "source": [
    "# Looping over a tuple\n",
    "t1 = (34, 12, 56, 78, 89)\n",
    "for t in t1:\n",
    "    print (t)"
   ]
  },
  {
   "cell_type": "code",
   "execution_count": 6,
   "metadata": {},
   "outputs": [
    {
     "name": "stdout",
     "output_type": "stream",
     "text": [
      "(23, 12, 45, 78)\n",
      "(45, 67)\n"
     ]
    }
   ],
   "source": [
    "# Writing over a tuple\n",
    "# One cannot change the elements stored in the tuple. \n",
    "# But you can assign a new tuple to the variable that stores the tuple you wanna change.\n",
    "t1 = (23, 12, 45, 78)\n",
    "print (t1)\n",
    "\n",
    "t1 = (45, 67) # t1 changed to new value\n",
    "print (t1)"
   ]
  },
  {
   "cell_type": "code",
   "execution_count": null,
   "metadata": {},
   "outputs": [],
   "source": []
  }
 ],
 "metadata": {
  "kernelspec": {
   "display_name": "Python 3",
   "language": "python",
   "name": "python3"
  },
  "language_info": {
   "codemirror_mode": {
    "name": "ipython",
    "version": 3
   },
   "file_extension": ".py",
   "mimetype": "text/x-python",
   "name": "python",
   "nbconvert_exporter": "python",
   "pygments_lexer": "ipython3",
   "version": "3.7.4"
  }
 },
 "nbformat": 4,
 "nbformat_minor": 2
}
