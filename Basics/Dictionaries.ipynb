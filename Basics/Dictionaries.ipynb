{
 "cells": [
  {
   "cell_type": "markdown",
   "metadata": {},
   "source": [
    "DICTIONARIES : It is a basic Key-Value Pair. Might be interpreted as hashmap"
   ]
  },
  {
   "cell_type": "code",
   "execution_count": 5,
   "metadata": {},
   "outputs": [
    {
     "name": "stdout",
     "output_type": "stream",
     "text": [
      "10\n",
      "65\n",
      "B\n",
      "Decimals\n"
     ]
    }
   ],
   "source": [
    "# Simple Dictionary\n",
    "# Dictionary allows to have key:value pairs\n",
    "d1 = {\"Python\":8, 'A':65, 66:'B', 9.45:\"Decimals\"}\n",
    "#takes the later value\n",
    "print (d1[\"Python\"])\n",
    "print (d1['A'])\n",
    "print (d1[66])\n",
    "print (d1[9.45])"
   ]
  },
  {
   "cell_type": "code",
   "execution_count": 6,
   "metadata": {},
   "outputs": [
    {
     "name": "stdout",
     "output_type": "stream",
     "text": [
      "8\n",
      "Is a decimal!\n",
      "17\n",
      "{'Python': 10, 'A': 65, 66: 'B', 9.45: 'Decimals', 'C++': 8, 7.56: 'Is a decimal!', 'Q': 17}\n"
     ]
    }
   ],
   "source": [
    "#addition of a new key value pair\n",
    "d1[\"C++\"] = 8\n",
    "d1[7.56]       = \"Is a decimal!\"\n",
    "d1['Q']        = 17\n",
    "\n",
    "print (d1[\"C++\"])\n",
    "print (d1[7.56])\n",
    "print (d1['Q'])\n",
    "\n",
    "print (d1)"
   ]
  },
  {
   "cell_type": "code",
   "execution_count": 7,
   "metadata": {},
   "outputs": [
    {
     "name": "stdout",
     "output_type": "stream",
     "text": [
      "{'Jennifer': 'Python', 'Scarlett': 'Python', 45: 56}\n"
     ]
    }
   ],
   "source": [
    "# Declaring an empty dictionary\n",
    "d1 = {}\n",
    "\n",
    "# Add new values\n",
    "d1[\"Jennifer\"] = \"Python\"\n",
    "d1[\"Scarlett\"] = \"Python\"\n",
    "d1[45]         = 56\n",
    "\n",
    "print (d1)"
   ]
  },
  {
   "cell_type": "code",
   "execution_count": 8,
   "metadata": {},
   "outputs": [
    {
     "name": "stdout",
     "output_type": "stream",
     "text": [
      "{'Python': 'Is Love', 'Jennifer': 8}\n"
     ]
    }
   ],
   "source": [
    "\n",
    "# Modifying values in a dictionary\n",
    "d1 = {\"Python\":\"Is a language\", \"Jennifer\":\"Feels like a supergirl with Python\"}\n",
    "\n",
    "d1[\"Python\"] = \"Is Love\"\n",
    "d1[\"Jennifer\"] = 8\n",
    "print (d1)"
   ]
  },
  {
   "cell_type": "code",
   "execution_count": 9,
   "metadata": {},
   "outputs": [
    {
     "name": "stdout",
     "output_type": "stream",
     "text": [
      "{'Jennifer': 'Scarlett', 'Scarlett': 'Jennifer'}\n"
     ]
    }
   ],
   "source": [
    "# Removing Key:Value pairs\n",
    "d1 = {\"Key\":\"Value\", \"Jennifer\":\"Scarlett\", \"Scarlett\":\"Jennifer\"}\n",
    "\n",
    "del d1[\"Key\"]\n",
    "print (d1)"
   ]
  },
  {
   "cell_type": "code",
   "execution_count": 10,
   "metadata": {},
   "outputs": [
    {
     "name": "stdout",
     "output_type": "stream",
     "text": [
      "All over\n",
      "It became a 'D'ictionary! XD\n",
      "\n",
      "\n",
      "{'A': 65, 'B': 66, 'C': 67, 'D': {'Breaking': 'Dict into dicts', 'Inception': 'All over', '!': 'XD'}, 'E': 69, 'What happened with D?': \"It became a 'D'ictionary! XD\", 66: 66}\n"
     ]
    }
   ],
   "source": [
    "# Storing a dictionary inside a dictionary\n",
    "d1 = {'A':65, 'B':66, 'C':67, 'D': {\n",
    "    \"Breaking\": \"Dict into dicts\", \n",
    "    \"Inception\": \"All over\", \n",
    "    '!': \"XD\"}, \n",
    "    'E':69, \n",
    "    \"What happened with D?\": \"It became a 'D'ictionary! XD\",\n",
    "    66:66}\n",
    "\n",
    "print (d1['D'][\"Inception\"])\n",
    "print (d1[\"What happened with D?\"])\n",
    "print ('\\n')\n",
    "print (d1)"
   ]
  },
  {
   "cell_type": "code",
   "execution_count": 11,
   "metadata": {},
   "outputs": [
    {
     "name": "stdout",
     "output_type": "stream",
     "text": [
      "Key: A\n",
      "Value: 65\n",
      "\n",
      "\n",
      "Key: B\n",
      "Value: 66\n",
      "\n",
      "\n",
      "Key: C\n",
      "Value: 67\n",
      "\n",
      "\n",
      "Key: D\n",
      "Value: {'Breaking': 'Dict into dicts', 'Inception': 'All over', '!': 'XD'}\n",
      "\n",
      "\n",
      "Key: E\n",
      "Value: 69\n",
      "\n",
      "\n",
      "Key: What happened with D?\n",
      "Value: It became a 'D'ictionary! XD\n",
      "\n",
      "\n",
      "Key: 66\n",
      "Value: 66\n",
      "\n",
      "\n"
     ]
    }
   ],
   "source": [
    "# Looping through a dictionary\n",
    "for key, value in d1.items():\n",
    "    print(\"Key: \"    + str(key))\n",
    "    print (\"Value: \" + str(value))\n",
    "    print('\\n')"
   ]
  },
  {
   "cell_type": "code",
   "execution_count": 12,
   "metadata": {},
   "outputs": [
    {
     "name": "stdout",
     "output_type": "stream",
     "text": [
      "Key: A\n",
      "Value: 65\n",
      "\n",
      "\n",
      "Key: B\n",
      "Value: 66\n",
      "\n",
      "\n",
      "Key: C\n",
      "Value: 67\n",
      "\n",
      "\n",
      "Key: D\n",
      "Value: {'Breaking': 'Dict into dicts', 'Inception': 'All over', '!': 'XD'}\n",
      "\n",
      "\n",
      "Key: E\n",
      "Value: 69\n",
      "\n",
      "\n",
      "Key: What happened with D?\n",
      "Value: It became a 'D'ictionary! XD\n",
      "\n",
      "\n",
      "Key: 66\n",
      "Value: 66\n",
      "\n",
      "\n"
     ]
    }
   ],
   "source": [
    "# Looping through the keys in dictionary\n",
    "for key in d1.keys():\n",
    "    print(\"Key: \"    + str(key))\n",
    "    print (\"Value: \" + str(d1[key]))\n",
    "    print('\\n')"
   ]
  },
  {
   "cell_type": "code",
   "execution_count": null,
   "metadata": {},
   "outputs": [],
   "source": []
  }
 ],
 "metadata": {
  "kernelspec": {
   "display_name": "Python 3",
   "language": "python",
   "name": "python3"
  },
  "language_info": {
   "codemirror_mode": {
    "name": "ipython",
    "version": 3
   },
   "file_extension": ".py",
   "mimetype": "text/x-python",
   "name": "python",
   "nbconvert_exporter": "python",
   "pygments_lexer": "ipython3",
   "version": "3.7.4"
  }
 },
 "nbformat": 4,
 "nbformat_minor": 2
}
