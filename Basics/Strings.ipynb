{
 "cells": [
  {
   "cell_type": "markdown",
   "metadata": {},
   "source": [
    "STRINGS\n"
   ]
  },
  {
   "cell_type": "code",
   "execution_count": 1,
   "metadata": {},
   "outputs": [],
   "source": [
    "#import the inbuilt string library\n",
    "import string"
   ]
  },
  {
   "cell_type": "code",
   "execution_count": 3,
   "metadata": {},
   "outputs": [
    {
     "name": "stdout",
     "output_type": "stream",
     "text": [
      "We Love Python\n",
      "WE LOVE PYTHON\n",
      "we love python\n"
     ]
    }
   ],
   "source": [
    "s1 = \"we love python\"\n",
    "\n",
    "# Title case\n",
    "s1_t= s1.title() \n",
    "print (s1_t)\n",
    "\n",
    "# Upper case\n",
    "s1_u = s1.upper() \n",
    "print (s1_u)\n",
    "\n",
    "# Lower case\n",
    "s1_l  = s1.lower() \n",
    "print (s1_l)"
   ]
  },
  {
   "cell_type": "code",
   "execution_count": 6,
   "metadata": {},
   "outputs": [
    {
     "name": "stdout",
     "output_type": "stream",
     "text": [
      "PythonProgramming\n",
      "Python and Programming\n",
      "Python And Programming\n"
     ]
    }
   ],
   "source": [
    "#Concatenation of strings\n",
    "\n",
    "n1 = \"Python\"\n",
    "n2 = \"Programming\"\n",
    "\n",
    "res = n1+n2\n",
    "res1 = n1 + \" and \" + n2\n",
    "\n",
    "print(res)\n",
    "print(res1)\n",
    "\n",
    "print(res1.title())"
   ]
  },
  {
   "cell_type": "code",
   "execution_count": 7,
   "metadata": {},
   "outputs": [
    {
     "name": "stdout",
     "output_type": "stream",
     "text": [
      "We\n",
      "love\n",
      "python\n",
      "We\tlove\tpython\n",
      "We\tlove\n",
      "python\n"
     ]
    }
   ],
   "source": [
    "# Adding WhiteSpaces\n",
    "print (\"We\\nlove\\npython\")\n",
    "print (\"We\\tlove\\tpython\")\n",
    "print (\"We\\tlove\\npython\")"
   ]
  },
  {
   "cell_type": "code",
   "execution_count": 8,
   "metadata": {},
   "outputs": [
    {
     "name": "stdout",
     "output_type": "stream",
     "text": [
      "    Python\n",
      "Python    \n",
      "  Python  \n",
      "##################\n",
      "Python\n",
      "Python\n",
      "Python\n"
     ]
    }
   ],
   "source": [
    "# Stripping Whitespace\n",
    "name1 = \"    Python\"\n",
    "name2 = \"Python    \"\n",
    "name3 = \"  Python  \"\n",
    "\n",
    "print (name1)\n",
    "print (name2)\n",
    "print (name3)\n",
    "print (\"##################\")\n",
    "print (name1.lstrip()) # lstrip() takes all extra whitespaces from left\n",
    "print (name2.rstrip()) # rstrip() takes all extra whitespaces from right\n",
    "print (name3.strip())  # strip() takes all extra whitespaces from both left and right"
   ]
  },
  {
   "cell_type": "code",
   "execution_count": 9,
   "metadata": {},
   "outputs": [
    {
     "name": "stdout",
     "output_type": "stream",
     "text": [
      "My age is 21\n"
     ]
    }
   ],
   "source": [
    "# str() -> casts other data types to string\n",
    "age = 21\n",
    "# print (\"My age is \" + age) ## This is an error as one cannot concatenate string and integer\n",
    "print (\"My age is \" + str(age)) # This works!"
   ]
  },
  {
   "cell_type": "code",
   "execution_count": 10,
   "metadata": {},
   "outputs": [
    {
     "name": "stdout",
     "output_type": "stream",
     "text": [
      "This is a list: ['Python', 'R', 'Julia']\n",
      "This is a tuple: ('Python', 'R', 'Julia')\n",
      "This is a dictionary: {1: 'Python', 2: 'R', 3: 'Julia'}\n"
     ]
    }
   ],
   "source": [
    "l_langs = [\"Python\", \"R\", \"Julia\"] # List\n",
    "t_langs = (\"Python\", \"R\", \"Julia\") # Tuple\n",
    "d_langs = {1: \"Python\", 2: \"R\", 3: \"Julia\"} # Dictionary\n",
    "\n",
    "print (\"This is a list: \"       + str(l_langs))\n",
    "print (\"This is a tuple: \"      + str(t_langs))\n",
    "print (\"This is a dictionary: \" + str(d_langs))"
   ]
  },
  {
   "cell_type": "code",
   "execution_count": 11,
   "metadata": {},
   "outputs": [
    {
     "name": "stdout",
     "output_type": "stream",
     "text": [
      "All Letters:   abcdefghijklmnopqrstuvwxyzABCDEFGHIJKLMNOPQRSTUVWXYZ\n",
      "Lowecase:      abcdefghijklmnopqrstuvwxyz\n",
      "Uppercase:     ABCDEFGHIJKLMNOPQRSTUVWXYZ\n",
      "Punctuations:  !\"#$%&'()*+,-./:;<=>?@[\\]^_`{|}~\n",
      "Numbers:       0123456789\n",
      "Hex Digits:    0123456789abcdefABCDEF\n",
      "Oct Digits:    01234567\n",
      "Whitespace:     \t\n",
      "\r",
      "\u000b",
      "\f",
      "\n",
      "Printable:     0123456789abcdefghijklmnopqrstuvwxyzABCDEFGHIJKLMNOPQRSTUVWXYZ!\"#$%&'()*+,-./:;<=>?@[\\]^_`{|}~ \t\n",
      "\r",
      "\u000b",
      "\f",
      "\n"
     ]
    }
   ],
   "source": [
    "# Some helpful constants built-in the string module\n",
    "print (\"All Letters:   \" + string.ascii_letters)\n",
    "print (\"Lowecase:      \" + string.ascii_lowercase)\n",
    "print (\"Uppercase:     \" + string.ascii_uppercase)\n",
    "print (\"Punctuations:  \" + string.punctuation)\n",
    "print (\"Numbers:       \" + string.digits)\n",
    "print (\"Hex Digits:    \" + string.hexdigits)\n",
    "print (\"Oct Digits:    \" + string.octdigits)\n",
    "print (\"Whitespace:    \" + string.whitespace)\n",
    "print (\"Printable:     \" + string.printable)\n",
    "\n",
    "#Much more of the library needs to be self-explored\n",
    "#https://docs.python.org/3/library/string.html"
   ]
  },
  {
   "cell_type": "code",
   "execution_count": null,
   "metadata": {},
   "outputs": [],
   "source": []
  }
 ],
 "metadata": {
  "kernelspec": {
   "display_name": "Python 3",
   "language": "python",
   "name": "python3"
  },
  "language_info": {
   "codemirror_mode": {
    "name": "ipython",
    "version": 3
   },
   "file_extension": ".py",
   "mimetype": "text/x-python",
   "name": "python",
   "nbconvert_exporter": "python",
   "pygments_lexer": "ipython3",
   "version": "3.7.4"
  }
 },
 "nbformat": 4,
 "nbformat_minor": 2
}
