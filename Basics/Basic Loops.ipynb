{
 "cells": [
  {
   "cell_type": "markdown",
   "metadata": {},
   "source": [
    "LOOPS"
   ]
  },
  {
   "cell_type": "code",
   "execution_count": 1,
   "metadata": {},
   "outputs": [
    {
     "name": "stdout",
     "output_type": "stream",
     "text": [
      "5\n",
      "6\n",
      "7\n",
      "8\n",
      "9\n",
      "10\n"
     ]
    }
   ],
   "source": [
    "# Simple while\n",
    "# Loop runs till the condition is True\n",
    "v1 = 5\n",
    "while v1 <= 10:\n",
    "    print (v1)\n",
    "    v1 += 1"
   ]
  },
  {
   "cell_type": "code",
   "execution_count": null,
   "metadata": {},
   "outputs": [],
   "source": [
    "#Lets create an infinite loop\n",
    "\n",
    "while 1:\n",
    "    print (1)\n",
    "    \n",
    "while True:\n",
    "    print (1)"
   ]
  },
  {
   "cell_type": "code",
   "execution_count": 3,
   "metadata": {},
   "outputs": [
    {
     "name": "stdout",
     "output_type": "stream",
     "text": [
      "41\n"
     ]
    }
   ],
   "source": [
    "v1 = 0\n",
    "while v1 <= 40: v1 += 1\n",
    "print (v1)\n",
    "\n",
    "#the while loop executes fully and then prints the value"
   ]
  },
  {
   "cell_type": "code",
   "execution_count": 9,
   "metadata": {},
   "outputs": [
    {
     "name": "stdout",
     "output_type": "stream",
     "text": [
      "10\n",
      "10\n"
     ]
    }
   ],
   "source": [
    "v1 = 10\n",
    "++v1\n",
    "++v1\n",
    "print (v1)\n",
    "#increment/decrement operators do not work\n",
    "--v1\n",
    "--v1\n",
    "print(v1)"
   ]
  },
  {
   "cell_type": "code",
   "execution_count": 10,
   "metadata": {},
   "outputs": [
    {
     "name": "stdout",
     "output_type": "stream",
     "text": [
      "Enter new v1: 111\n",
      "v1 modified to: 111\n",
      "Enter new v1: 1212\n",
      "v1 modified to: 1212\n",
      "Enter new v1: 123\n",
      "v1 modified to: 123\n",
      "Enter new v1: 100\n",
      "v1 modified to: 100\n"
     ]
    }
   ],
   "source": [
    "# Termination loop on a certain user input\n",
    "# Note: The loop will break only when the user inputs 100\n",
    "v1 = 1\n",
    "while v1 != 100:\n",
    "    v1 = int(input(\"Enter new v1: \"))\n",
    "    print (\"v1 modified to: \" + str(v1))"
   ]
  },
  {
   "cell_type": "code",
   "execution_count": 11,
   "metadata": {},
   "outputs": [
    {
     "name": "stdout",
     "output_type": "stream",
     "text": [
      "Looping begins\n",
      "121\n",
      "Iteration complete\n",
      "Looping begins\n",
      "233\n",
      "Iteration complete\n",
      "Looping begins\n",
      "1412\n",
      "Iteration complete\n",
      "Looping begins\n",
      "100\n"
     ]
    }
   ],
   "source": [
    "# 'continue' -> continues to next iteration, skips all statements after it for that iteration\n",
    "# Note: When 'v1' < 100 the last print statement is skipped and the control moves to the next iteration\n",
    "while 1:\n",
    "    print (\"Looping begins\")\n",
    "    v1 = int(input())\n",
    "    if v1 == 100:\n",
    "        break;\n",
    "    elif v1 < 100:\n",
    "        print (\"v1 less than 100\")\n",
    "        continue;\n",
    "    print (\"Iteration complete\")"
   ]
  },
  {
   "cell_type": "code",
   "execution_count": 12,
   "metadata": {},
   "outputs": [
    {
     "name": "stdout",
     "output_type": "stream",
     "text": [
      "0\n",
      "1\n",
      "2\n",
      "3\n",
      "4\n",
      "5\n",
      "6\n",
      "7\n",
      "8\n",
      "9\n"
     ]
    }
   ],
   "source": [
    "#ficing the increment problem\n",
    "#the range funtion :\n",
    "#range(start val, stop val,step)\n",
    "\n",
    "#Step default is  +1\n",
    "#INCREMENT LOOP\n",
    "for i in range(0,10):\n",
    "    print(i)\n"
   ]
  },
  {
   "cell_type": "code",
   "execution_count": 13,
   "metadata": {},
   "outputs": [
    {
     "name": "stdout",
     "output_type": "stream",
     "text": [
      "0\n",
      "2\n",
      "4\n",
      "6\n",
      "8\n",
      "10\n"
     ]
    }
   ],
   "source": [
    "# we notice it prints from 0-9\n",
    "# it is an open end function  [0,n)\n",
    "for i in range(0,11,2):  #steps = 2 ,increment is by +2\n",
    "    print(i)"
   ]
  },
  {
   "cell_type": "code",
   "execution_count": 14,
   "metadata": {},
   "outputs": [
    {
     "name": "stdout",
     "output_type": "stream",
     "text": [
      "4\n",
      "3\n",
      "2\n",
      "1\n",
      "0\n"
     ]
    }
   ],
   "source": [
    "#DECREMENT LOOP\n",
    "for i in range(4, -1, -1): \n",
    "    print(i) "
   ]
  },
  {
   "cell_type": "code",
   "execution_count": 15,
   "metadata": {},
   "outputs": [],
   "source": [
    "#once again it stops before -1"
   ]
  },
  {
   "cell_type": "code",
   "execution_count": null,
   "metadata": {},
   "outputs": [],
   "source": []
  }
 ],
 "metadata": {
  "kernelspec": {
   "display_name": "Python 3",
   "language": "python",
   "name": "python3"
  },
  "language_info": {
   "codemirror_mode": {
    "name": "ipython",
    "version": 3
   },
   "file_extension": ".py",
   "mimetype": "text/x-python",
   "name": "python",
   "nbconvert_exporter": "python",
   "pygments_lexer": "ipython3",
   "version": "3.7.4"
  }
 },
 "nbformat": 4,
 "nbformat_minor": 2
}
