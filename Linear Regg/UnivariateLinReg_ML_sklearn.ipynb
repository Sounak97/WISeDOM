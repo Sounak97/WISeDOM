{
 "cells": [
  {
   "cell_type": "code",
   "execution_count": 1,
   "metadata": {
    "colab": {},
    "colab_type": "code",
    "id": "xizt5bT4ygfK"
   },
   "outputs": [],
   "source": [
    "import numpy as np\n",
    "import pandas as pd\n",
    "import matplotlib.pyplot as plt\n",
    "from sklearn.linear_model import LinearRegression \n",
    "#IMport prebuilt model from ScikitLearn\n",
    "#train_test_split()"
   ]
  },
  {
   "cell_type": "code",
   "execution_count": 2,
   "metadata": {
    "colab": {},
    "colab_type": "code",
    "id": "4f6QtKTHyv0G"
   },
   "outputs": [],
   "source": [
    "#now we import the datasets from github directly\n",
    "url_test='https://raw.githubusercontent.com/Sounak97/Machine_Learning_Exercises/master/UnivariteLinearRegression/Datasets/test.csv'\n",
    "url_train='https://raw.githubusercontent.com/Sounak97/Machine_Learning_Exercises/master/UnivariteLinearRegression/Datasets/train.csv'\n"
   ]
  },
  {
   "cell_type": "code",
   "execution_count": 3,
   "metadata": {
    "colab": {},
    "colab_type": "code",
    "id": "SdcRa_srzjwa"
   },
   "outputs": [],
   "source": [
    "data_train=pd.read_csv(url_train)\n",
    "data_test=pd.read_csv(url_test)"
   ]
  },
  {
   "cell_type": "code",
   "execution_count": 4,
   "metadata": {},
   "outputs": [
    {
     "data": {
      "text/html": [
       "<div>\n",
       "<style scoped>\n",
       "    .dataframe tbody tr th:only-of-type {\n",
       "        vertical-align: middle;\n",
       "    }\n",
       "\n",
       "    .dataframe tbody tr th {\n",
       "        vertical-align: top;\n",
       "    }\n",
       "\n",
       "    .dataframe thead th {\n",
       "        text-align: right;\n",
       "    }\n",
       "</style>\n",
       "<table border=\"1\" class=\"dataframe\">\n",
       "  <thead>\n",
       "    <tr style=\"text-align: right;\">\n",
       "      <th></th>\n",
       "      <th>x</th>\n",
       "      <th>y</th>\n",
       "    </tr>\n",
       "  </thead>\n",
       "  <tbody>\n",
       "    <tr>\n",
       "      <td>0</td>\n",
       "      <td>24.0</td>\n",
       "      <td>21.549452</td>\n",
       "    </tr>\n",
       "    <tr>\n",
       "      <td>1</td>\n",
       "      <td>50.0</td>\n",
       "      <td>47.464463</td>\n",
       "    </tr>\n",
       "    <tr>\n",
       "      <td>2</td>\n",
       "      <td>15.0</td>\n",
       "      <td>17.218656</td>\n",
       "    </tr>\n",
       "    <tr>\n",
       "      <td>3</td>\n",
       "      <td>38.0</td>\n",
       "      <td>36.586398</td>\n",
       "    </tr>\n",
       "    <tr>\n",
       "      <td>4</td>\n",
       "      <td>87.0</td>\n",
       "      <td>87.288984</td>\n",
       "    </tr>\n",
       "  </tbody>\n",
       "</table>\n",
       "</div>"
      ],
      "text/plain": [
       "      x          y\n",
       "0  24.0  21.549452\n",
       "1  50.0  47.464463\n",
       "2  15.0  17.218656\n",
       "3  38.0  36.586398\n",
       "4  87.0  87.288984"
      ]
     },
     "execution_count": 4,
     "metadata": {},
     "output_type": "execute_result"
    }
   ],
   "source": [
    "data_train.head()"
   ]
  },
  {
   "cell_type": "code",
   "execution_count": 5,
   "metadata": {},
   "outputs": [
    {
     "data": {
      "text/html": [
       "<div>\n",
       "<style scoped>\n",
       "    .dataframe tbody tr th:only-of-type {\n",
       "        vertical-align: middle;\n",
       "    }\n",
       "\n",
       "    .dataframe tbody tr th {\n",
       "        vertical-align: top;\n",
       "    }\n",
       "\n",
       "    .dataframe thead th {\n",
       "        text-align: right;\n",
       "    }\n",
       "</style>\n",
       "<table border=\"1\" class=\"dataframe\">\n",
       "  <thead>\n",
       "    <tr style=\"text-align: right;\">\n",
       "      <th></th>\n",
       "      <th>x</th>\n",
       "      <th>y</th>\n",
       "    </tr>\n",
       "  </thead>\n",
       "  <tbody>\n",
       "    <tr>\n",
       "      <td>0</td>\n",
       "      <td>77</td>\n",
       "      <td>79.775152</td>\n",
       "    </tr>\n",
       "    <tr>\n",
       "      <td>1</td>\n",
       "      <td>21</td>\n",
       "      <td>23.177279</td>\n",
       "    </tr>\n",
       "    <tr>\n",
       "      <td>2</td>\n",
       "      <td>22</td>\n",
       "      <td>25.609262</td>\n",
       "    </tr>\n",
       "    <tr>\n",
       "      <td>3</td>\n",
       "      <td>20</td>\n",
       "      <td>17.857388</td>\n",
       "    </tr>\n",
       "    <tr>\n",
       "      <td>4</td>\n",
       "      <td>36</td>\n",
       "      <td>41.849864</td>\n",
       "    </tr>\n",
       "  </tbody>\n",
       "</table>\n",
       "</div>"
      ],
      "text/plain": [
       "    x          y\n",
       "0  77  79.775152\n",
       "1  21  23.177279\n",
       "2  22  25.609262\n",
       "3  20  17.857388\n",
       "4  36  41.849864"
      ]
     },
     "execution_count": 5,
     "metadata": {},
     "output_type": "execute_result"
    }
   ],
   "source": [
    "data_test.head()"
   ]
  },
  {
   "cell_type": "code",
   "execution_count": 6,
   "metadata": {
    "colab": {
     "base_uri": "https://localhost:8080/",
     "height": 51
    },
    "colab_type": "code",
    "id": "s6XzcRd70H_U",
    "outputId": "332b826b-601c-436a-fe90-c22f1368cc1f"
   },
   "outputs": [
    {
     "name": "stdout",
     "output_type": "stream",
     "text": [
      "(700, 2)\n",
      "(300, 2)\n"
     ]
    }
   ],
   "source": [
    "print(data_train.shape)\n",
    "print(data_test.shape)"
   ]
  },
  {
   "cell_type": "code",
   "execution_count": 7,
   "metadata": {
    "colab": {},
    "colab_type": "code",
    "id": "UVbIMblz0Saa"
   },
   "outputs": [],
   "source": [
    "x_train=data_train.iloc[:,:-1].values\n",
    "y_train=data_train.iloc[:,1].values\n",
    "x_test=data_test.iloc[:,:-1].values\n",
    "y_test=data_test.iloc[:,1].values\n",
    "\n",
    "x_dftrain=pd.DataFrame(x_train)\n",
    "y_dftrain=pd.DataFrame(y_train)\n",
    "\n",
    "x_dftest=pd.DataFrame(x_test)\n",
    "y_dftest=pd.DataFrame(y_test)"
   ]
  },
  {
   "cell_type": "code",
   "execution_count": 8,
   "metadata": {
    "colab": {
     "base_uri": "https://localhost:8080/",
     "height": 51
    },
    "colab_type": "code",
    "id": "4wy-qwte1KOc",
    "outputId": "135a9d14-e394-465e-b3f8-34cb651c6a2d"
   },
   "outputs": [
    {
     "name": "stdout",
     "output_type": "stream",
     "text": [
      "(700, 1)\n",
      "(300, 1)\n"
     ]
    }
   ],
   "source": [
    "print(x_train.shape)\n",
    "print(x_test.shape)"
   ]
  },
  {
   "cell_type": "code",
   "execution_count": 10,
   "metadata": {
    "colab": {},
    "colab_type": "code",
    "id": "KPvGv6l-1Tpw"
   },
   "outputs": [],
   "source": [
    "linReg=LinearRegression()\n"
   ]
  },
  {
   "cell_type": "code",
   "execution_count": 11,
   "metadata": {
    "colab": {},
    "colab_type": "code",
    "id": "r0ZElR2S17YE"
   },
   "outputs": [
    {
     "data": {
      "text/plain": [
       "'def _assert_all_finite(X, allow_nan=False):\\n    \"\"\"Like assert_all_finite, but only for ndarray.\"\"\"\\n    # validation is also imported in extmath\\n    from .extmath import _safe_accumulator_op\\n\\n    if _get_config()[\\'assume_finite\\']:\\n        return\\n    X = np.asanyarray(X)\\n    # First try an O(n) time, O(1) space solution for the common case that\\n    # everything is finite; fall back to O(n) space np.isfinite to prevent\\n    # false positives from overflow in sum method. The sum is also calculated\\n    # safely to reduce dtype induced overflows.\\n    #\\n    is_float = X.dtype.kind in \\'fc\\'\\n    if is_float and (np.isfinite(_safe_accumulator_op(np.sum, X))):\\n        pass\\n    elif is_float:\\n        msg_err = \"Input contains {} or a value too large for {!r}.\"\\n        if (allow_nan and np.isinf(X).any() or\\n                not allow_nan and not np.isfinite(X).all()):\\n            type_err = \\'infinity\\' if allow_nan else \\'NaN, infinity\\'\\n            raise ValueError(msg_err.format(type_err, X.dtype))\\n    # for object dtype data, we only check for NaNs (GH-13254)\\n    elif X.dtype == np.dtype(\\'object\\') and not allow_nan:\\n        if _object_dtype_isnan(X).any():\\n            raise ValueError(\"Input contains NaN\")\\n'"
      ]
     },
     "execution_count": 11,
     "metadata": {},
     "output_type": "execute_result"
    }
   ],
   "source": [
    "'''def _assert_all_finite(X, allow_nan=False):\n",
    "    \"\"\"Like assert_all_finite, but only for ndarray.\"\"\"\n",
    "    # validation is also imported in extmath\n",
    "    from .extmath import _safe_accumulator_op\n",
    "\n",
    "    if _get_config()['assume_finite']:\n",
    "        return\n",
    "    X = np.asanyarray(X)\n",
    "    # First try an O(n) time, O(1) space solution for the common case that\n",
    "    # everything is finite; fall back to O(n) space np.isfinite to prevent\n",
    "    # false positives from overflow in sum method. The sum is also calculated\n",
    "    # safely to reduce dtype induced overflows.\n",
    "    #\n",
    "    is_float = X.dtype.kind in 'fc'\n",
    "    if is_float and (np.isfinite(_safe_accumulator_op(np.sum, X))):\n",
    "        pass\n",
    "    elif is_float:\n",
    "        msg_err = \"Input contains {} or a value too large for {!r}.\"\n",
    "        if (allow_nan and np.isinf(X).any() or\n",
    "                not allow_nan and not np.isfinite(X).all()):\n",
    "            type_err = 'infinity' if allow_nan else 'NaN, infinity'\n",
    "            raise ValueError(msg_err.format(type_err, X.dtype))\n",
    "    # for object dtype data, we only check for NaNs (GH-13254)\n",
    "    elif X.dtype == np.dtype('object') and not allow_nan:\n",
    "        if _object_dtype_isnan(X).any():\n",
    "            raise ValueError(\"Input contains NaN\")\n",
    "'''"
   ]
  },
  {
   "cell_type": "code",
   "execution_count": 12,
   "metadata": {
    "colab": {
     "base_uri": "https://localhost:8080/",
     "height": 54
    },
    "colab_type": "code",
    "id": "0s_Y95YX4FCd",
    "outputId": "9fc099fc-a457-4e55-889a-742cacdaba4c"
   },
   "outputs": [
    {
     "data": {
      "text/plain": [
       "'x_dftrain[~x_dftrain.isin([np.nan, np.inf, -np.inf]).any(1)].astype(np.float64)\\ny_dftrain[~y_dftrain.isin([np.nan, np.inf, -np.inf]).any(1)].astype(np.float64)\\nx_dftest[~x_dftest.isin([np.nan, np.inf, -np.inf]).any(1)].astype(np.float64)\\ny_dftest[~y_dftest.isin([np.nan, np.inf, -np.inf]).any(1)].astype(np.float64)'"
      ]
     },
     "execution_count": 12,
     "metadata": {},
     "output_type": "execute_result"
    }
   ],
   "source": [
    "'''clean_dataset(x_dftrain)\n",
    "clean_dataset(y_dftrain)\n",
    "clean_dataset(x_dftest)\n",
    "clean_dataset(y_dftest)'''\n",
    "\n",
    "'''x_dftrain[~x_dftrain.isin([np.nan, np.inf, -np.inf]).any(1)].astype(np.float64)\n",
    "y_dftrain[~y_dftrain.isin([np.nan, np.inf, -np.inf]).any(1)].astype(np.float64)\n",
    "x_dftest[~x_dftest.isin([np.nan, np.inf, -np.inf]).any(1)].astype(np.float64)\n",
    "y_dftest[~y_dftest.isin([np.nan, np.inf, -np.inf]).any(1)].astype(np.float64)'''"
   ]
  },
  {
   "cell_type": "code",
   "execution_count": 13,
   "metadata": {
    "colab": {
     "base_uri": "https://localhost:8080/",
     "height": 1000
    },
    "colab_type": "code",
    "id": "lUa0sAjV7rql",
    "outputId": "ae796cf0-8c70-4117-ddfa-fb144308f6c3"
   },
   "outputs": [
    {
     "data": {
      "text/html": [
       "<div>\n",
       "<style scoped>\n",
       "    .dataframe tbody tr th:only-of-type {\n",
       "        vertical-align: middle;\n",
       "    }\n",
       "\n",
       "    .dataframe tbody tr th {\n",
       "        vertical-align: top;\n",
       "    }\n",
       "\n",
       "    .dataframe thead th {\n",
       "        text-align: right;\n",
       "    }\n",
       "</style>\n",
       "<table border=\"1\" class=\"dataframe\">\n",
       "  <thead>\n",
       "    <tr style=\"text-align: right;\">\n",
       "      <th></th>\n",
       "      <th>0</th>\n",
       "    </tr>\n",
       "  </thead>\n",
       "  <tbody>\n",
       "    <tr>\n",
       "      <td>0</td>\n",
       "      <td>24.0</td>\n",
       "    </tr>\n",
       "    <tr>\n",
       "      <td>1</td>\n",
       "      <td>50.0</td>\n",
       "    </tr>\n",
       "    <tr>\n",
       "      <td>2</td>\n",
       "      <td>15.0</td>\n",
       "    </tr>\n",
       "    <tr>\n",
       "      <td>3</td>\n",
       "      <td>38.0</td>\n",
       "    </tr>\n",
       "    <tr>\n",
       "      <td>4</td>\n",
       "      <td>87.0</td>\n",
       "    </tr>\n",
       "    <tr>\n",
       "      <td>...</td>\n",
       "      <td>...</td>\n",
       "    </tr>\n",
       "    <tr>\n",
       "      <td>695</td>\n",
       "      <td>58.0</td>\n",
       "    </tr>\n",
       "    <tr>\n",
       "      <td>696</td>\n",
       "      <td>93.0</td>\n",
       "    </tr>\n",
       "    <tr>\n",
       "      <td>697</td>\n",
       "      <td>82.0</td>\n",
       "    </tr>\n",
       "    <tr>\n",
       "      <td>698</td>\n",
       "      <td>66.0</td>\n",
       "    </tr>\n",
       "    <tr>\n",
       "      <td>699</td>\n",
       "      <td>97.0</td>\n",
       "    </tr>\n",
       "  </tbody>\n",
       "</table>\n",
       "<p>700 rows × 1 columns</p>\n",
       "</div>"
      ],
      "text/plain": [
       "        0\n",
       "0    24.0\n",
       "1    50.0\n",
       "2    15.0\n",
       "3    38.0\n",
       "4    87.0\n",
       "..    ...\n",
       "695  58.0\n",
       "696  93.0\n",
       "697  82.0\n",
       "698  66.0\n",
       "699  97.0\n",
       "\n",
       "[700 rows x 1 columns]"
      ]
     },
     "execution_count": 13,
     "metadata": {},
     "output_type": "execute_result"
    }
   ],
   "source": [
    "x_dftest.fillna(x_dftest.mean())\n",
    "y_dftest.fillna(y_dftest.mean())\n",
    "y_dftrain.fillna(y_dftrain.mean())\n",
    "x_dftrain.fillna(x_dftrain.mean())"
   ]
  },
  {
   "cell_type": "code",
   "execution_count": 14,
   "metadata": {
    "colab": {},
    "colab_type": "code",
    "id": "ho1ZtgW7-Yvf"
   },
   "outputs": [],
   "source": [
    "x_dftrain[x_dftrain==np.inf]=np.nan\n",
    "x_dftrain.fillna(x_dftrain.mean(), inplace=True)\n",
    "y_dftrain[y_dftrain==np.inf]=np.nan\n",
    "y_dftrain.fillna(y_dftrain.mean(), inplace=True)\n",
    "x_dftest[x_dftest==np.inf]=np.nan\n",
    "x_dftest.fillna(x_dftest.mean(), inplace=True)\n",
    "y_dftest[y_dftest==np.inf]=np.nan\n",
    "y_dftest.fillna(y_dftest.mean(), inplace=True)"
   ]
  },
  {
   "cell_type": "code",
   "execution_count": 15,
   "metadata": {
    "colab": {
     "base_uri": "https://localhost:8080/",
     "height": 1000
    },
    "colab_type": "code",
    "id": "Y2I9oDoj_j0z",
    "outputId": "073dd77a-498c-4b63-fb09-71bf4db10df3"
   },
   "outputs": [
    {
     "data": {
      "text/html": [
       "<div>\n",
       "<style scoped>\n",
       "    .dataframe tbody tr th:only-of-type {\n",
       "        vertical-align: middle;\n",
       "    }\n",
       "\n",
       "    .dataframe tbody tr th {\n",
       "        vertical-align: top;\n",
       "    }\n",
       "\n",
       "    .dataframe thead th {\n",
       "        text-align: right;\n",
       "    }\n",
       "</style>\n",
       "<table border=\"1\" class=\"dataframe\">\n",
       "  <thead>\n",
       "    <tr style=\"text-align: right;\">\n",
       "      <th></th>\n",
       "      <th>0</th>\n",
       "    </tr>\n",
       "  </thead>\n",
       "  <tbody>\n",
       "    <tr>\n",
       "      <td>0</td>\n",
       "      <td>24.0</td>\n",
       "    </tr>\n",
       "    <tr>\n",
       "      <td>1</td>\n",
       "      <td>50.0</td>\n",
       "    </tr>\n",
       "    <tr>\n",
       "      <td>2</td>\n",
       "      <td>15.0</td>\n",
       "    </tr>\n",
       "    <tr>\n",
       "      <td>3</td>\n",
       "      <td>38.0</td>\n",
       "    </tr>\n",
       "    <tr>\n",
       "      <td>4</td>\n",
       "      <td>87.0</td>\n",
       "    </tr>\n",
       "    <tr>\n",
       "      <td>...</td>\n",
       "      <td>...</td>\n",
       "    </tr>\n",
       "    <tr>\n",
       "      <td>694</td>\n",
       "      <td>81.0</td>\n",
       "    </tr>\n",
       "    <tr>\n",
       "      <td>695</td>\n",
       "      <td>58.0</td>\n",
       "    </tr>\n",
       "    <tr>\n",
       "      <td>696</td>\n",
       "      <td>93.0</td>\n",
       "    </tr>\n",
       "    <tr>\n",
       "      <td>697</td>\n",
       "      <td>82.0</td>\n",
       "    </tr>\n",
       "    <tr>\n",
       "      <td>698</td>\n",
       "      <td>66.0</td>\n",
       "    </tr>\n",
       "  </tbody>\n",
       "</table>\n",
       "<p>699 rows × 1 columns</p>\n",
       "</div>"
      ],
      "text/plain": [
       "        0\n",
       "0    24.0\n",
       "1    50.0\n",
       "2    15.0\n",
       "3    38.0\n",
       "4    87.0\n",
       "..    ...\n",
       "694  81.0\n",
       "695  58.0\n",
       "696  93.0\n",
       "697  82.0\n",
       "698  66.0\n",
       "\n",
       "[699 rows x 1 columns]"
      ]
     },
     "execution_count": 15,
     "metadata": {},
     "output_type": "execute_result"
    }
   ],
   "source": [
    "'''x_dftrain = x_dftrain.reset_index()\n",
    "y_dftrain = y_dftrain.reset_index()'''\n",
    "\n",
    "x_dftrain.drop(x_dftrain.index[[699]])"
   ]
  },
  {
   "cell_type": "code",
   "execution_count": 16,
   "metadata": {
    "colab": {
     "base_uri": "https://localhost:8080/",
     "height": 34
    },
    "colab_type": "code",
    "id": "NFxS_F714kFo",
    "outputId": "d27a52c6-3fad-494f-cbdd-375e7f2a9816"
   },
   "outputs": [
    {
     "data": {
      "text/plain": [
       "LinearRegression(copy_X=True, fit_intercept=True, n_jobs=None,\n",
       "         normalize=False)"
      ]
     },
     "execution_count": 16,
     "metadata": {},
     "output_type": "execute_result"
    }
   ],
   "source": [
    "linReg.fit(x_dftrain,y_dftrain)"
   ]
  },
  {
   "cell_type": "code",
   "execution_count": 17,
   "metadata": {
    "colab": {},
    "colab_type": "code",
    "id": "AnjHmngW40wU"
   },
   "outputs": [],
   "source": [
    "pred=linReg.predict(x_test)"
   ]
  },
  {
   "cell_type": "code",
   "execution_count": 18,
   "metadata": {},
   "outputs": [
    {
     "data": {
      "text/plain": [
       "[<matplotlib.lines.Line2D at 0x7f93bc9b8110>]"
      ]
     },
     "execution_count": 18,
     "metadata": {},
     "output_type": "execute_result"
    },
    {
     "data": {
      "image/png": "[encoded data removed]",
      "text/plain": [
       "<Figure size 432x288 with 1 Axes>"
      ]
     },
     "metadata": {
      "needs_background": "light"
     },
     "output_type": "display_data"
    }
   ],
   "source": [
    "plt.plot(pred,y_dftest)"
   ]
  },
  {
   "cell_type": "code",
   "execution_count": 19,
   "metadata": {
    "colab": {
     "base_uri": "https://localhost:8080/",
     "height": 295
    },
    "colab_type": "code",
    "id": "RN-ZpECZDhu-",
    "outputId": "3d9a1a33-cd81-42d9-bc4a-0e14958da339"
   },
   "outputs": [
    {
     "data": {
      "image/png": "[encoded data removed]",
      "text/plain": [
       "<Figure size 432x288 with 1 Axes>"
      ]
     },
     "metadata": {
      "needs_background": "light"
     },
     "output_type": "display_data"
    }
   ],
   "source": [
    "plt.scatter(x_dftrain, y_dftrain, color = 'red')\n",
    "plt.plot(x_dftrain, linReg.predict(x_dftrain), color = 'blue')\n",
    "plt.title('X vs Y (Training set)')\n",
    "plt.xlabel('X')\n",
    "plt.ylabel('Y')\n",
    "plt.show()\n"
   ]
  },
  {
   "cell_type": "code",
   "execution_count": 20,
   "metadata": {
    "colab": {
     "base_uri": "https://localhost:8080/",
     "height": 295
    },
    "colab_type": "code",
    "id": "hnhBAUU9DybO",
    "outputId": "5ecd38f9-91fe-4f27-821a-c8d6ad2dd7dc"
   },
   "outputs": [
    {
     "data": {
      "image/png": "[encoded data removed]",
      "text/plain": [
       "<Figure size 432x288 with 1 Axes>"
      ]
     },
     "metadata": {
      "needs_background": "light"
     },
     "output_type": "display_data"
    }
   ],
   "source": [
    "plt.scatter(x_dftest, y_dftest, color = 'red')\n",
    "plt.plot(x_dftest, linReg.predict(x_dftest), color = 'blue')\n",
    "plt.title('X vs Y (Test set)')\n",
    "plt.xlabel('X')\n",
    "plt.ylabel('Y')\n",
    "plt.show()\n",
    "#EXPLORE->Why so low accuracy???"
   ]
  },
  {
   "cell_type": "code",
   "execution_count": 21,
   "metadata": {},
   "outputs": [
    {
     "data": {
      "text/plain": [
       "0.001459645981239155"
      ]
     },
     "execution_count": 21,
     "metadata": {},
     "output_type": "execute_result"
    }
   ],
   "source": [
    "linReg.score(pred,y_dftest)"
   ]
  },
  {
   "cell_type": "code",
   "execution_count": null,
   "metadata": {},
   "outputs": [],
   "source": []
  },
  {
   "cell_type": "code",
   "execution_count": null,
   "metadata": {},
   "outputs": [],
   "source": []
  }
 ],
 "metadata": {
  "colab": {
   "name": "UnivariateLinReg_ML_sklearn.ipynb",
   "provenance": [],
   "version": "0.3.2"
  },
  "kernelspec": {
   "display_name": "Python 3",
   "language": "python",
   "name": "python3"
  },
  "language_info": {
   "codemirror_mode": {
    "name": "ipython",
    "version": 3
   },
   "file_extension": ".py",
   "mimetype": "text/x-python",
   "name": "python",
   "nbconvert_exporter": "python",
   "pygments_lexer": "ipython3",
   "version": "3.7.4"
  }
 },
 "nbformat": 4,
 "nbformat_minor": 1
}
