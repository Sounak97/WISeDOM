{
 "cells": [
  {
   "cell_type": "code",
   "execution_count": 1,
   "metadata": {
    "colab": {},
    "colab_type": "code",
    "id": "GIfKnwpTPCH6"
   },
   "outputs": [],
   "source": [
    "import numpy as np \n",
    "import pandas as pd\n",
    "import matplotlib.pyplot as plt"
   ]
  },
  {
   "cell_type": "markdown",
   "metadata": {
    "colab_type": "text",
    "id": "PCyeSVwMTNp4"
   },
   "source": [
    "# **Univariate Linear Regression**\n",
    "\n",
    "*Introduction*:\n",
    "\n",
    "This dataset is the infamous California Housing Dataset and which may not be suited as the ideal for the Univriate study..but well!\n",
    "I would suggest that anyone reading this should select a better dataset,in other words,a dataset that is more suited to the univariate linear regression.\n",
    "Libraries used:\n",
    "\n",
    "\n",
    "1.   **NumPy** :Fundamental for scientific computations\n",
    "2.  ** Pandas** : Provides easy to use data-analysis tools for Python\n",
    "1.   **Matplotlib** :  Matplotlib is a Python 2D plotting library which produces publication quality figures in a variety of hardcopy formats and interactive environments across platforms.\n",
    "\n",
    "\n",
    "\n",
    "# **Goal** :\n",
    "To explore the Linear Regression concept from the statistical point of view.\n",
    "We only use the formula and fetch the result .\n",
    "The Coherent Learning procedures using Cost Minimization will be uploaded afterwards,as you can check in the repository which I am sure you will.. :)\n",
    "\n"
   ]
  },
  {
   "cell_type": "code",
   "execution_count": 2,
   "metadata": {
    "colab": {},
    "colab_type": "code",
    "id": "8NdIXkI5PCIA"
   },
   "outputs": [],
   "source": [
    "df = pd.read_csv('https://download.mlcc.google.com/mledu-datasets/california_housing_train.csv', sep=',')"
   ]
  },
  {
   "cell_type": "markdown",
   "metadata": {
    "colab_type": "text",
    "id": "vCc9A0qlaUCg"
   },
   "source": [
    "**STEP 1: **  \n",
    "Reading the CSV file from the link directly using the pandas library.\n",
    "The link is used to read the file but the datset will be uploaded as well."
   ]
  },
  {
   "cell_type": "code",
   "execution_count": 5,
   "metadata": {
    "colab": {
     "base_uri": "https://localhost:8080/",
     "height": 195
    },
    "colab_type": "code",
    "id": "QIJ5ppdpPCIK",
    "outputId": "1ef6e292-175f-42ab-ce76-47b19cdfcbc1"
   },
   "outputs": [
    {
     "name": "stdout",
     "output_type": "stream",
     "text": [
      "(17000, 9)\n",
      "RangeIndex(start=0, stop=17000, step=1)\n"
     ]
    }
   ],
   "source": [
    "df.head()\n",
    "print(df.shape)\n",
    "print(df.index)"
   ]
  },
  {
   "cell_type": "markdown",
   "metadata": {
    "colab_type": "text",
    "id": "XMp_-xBEbzZe"
   },
   "source": [
    "\n",
    "\n",
    "**STEP 2 :**\n",
    "As observed the datset is constructed into a pandas **DataFrame** since it is a two-dimensional size-mutable, potentially heterogeneous tabular data structure with labeled axes (rows and columns).All operations within the library of pandas may be performed on it as well."
   ]
  },
  {
   "cell_type": "code",
   "execution_count": 7,
   "metadata": {
    "colab": {
     "base_uri": "https://localhost:8080/",
     "height": 195
    },
    "colab_type": "code",
    "id": "ZwariIwlPCIP",
    "outputId": "5c7086cc-9c3f-4d37-be77-d8753c3e5130"
   },
   "outputs": [
    {
     "data": {
      "text/html": [
       "<div>\n",
       "<style scoped>\n",
       "    .dataframe tbody tr th:only-of-type {\n",
       "        vertical-align: middle;\n",
       "    }\n",
       "\n",
       "    .dataframe tbody tr th {\n",
       "        vertical-align: top;\n",
       "    }\n",
       "\n",
       "    .dataframe thead th {\n",
       "        text-align: right;\n",
       "    }\n",
       "</style>\n",
       "<table border=\"1\" class=\"dataframe\">\n",
       "  <thead>\n",
       "    <tr style=\"text-align: right;\">\n",
       "      <th></th>\n",
       "      <th>total_rooms</th>\n",
       "    </tr>\n",
       "  </thead>\n",
       "  <tbody>\n",
       "    <tr>\n",
       "      <td>10903</td>\n",
       "      <td>2419.0</td>\n",
       "    </tr>\n",
       "    <tr>\n",
       "      <td>8781</td>\n",
       "      <td>2633.0</td>\n",
       "    </tr>\n",
       "    <tr>\n",
       "      <td>15515</td>\n",
       "      <td>6645.0</td>\n",
       "    </tr>\n",
       "    <tr>\n",
       "      <td>16797</td>\n",
       "      <td>608.0</td>\n",
       "    </tr>\n",
       "    <tr>\n",
       "      <td>11644</td>\n",
       "      <td>930.0</td>\n",
       "    </tr>\n",
       "  </tbody>\n",
       "</table>\n",
       "</div>"
      ],
      "text/plain": [
       "       total_rooms\n",
       "10903       2419.0\n",
       "8781        2633.0\n",
       "15515       6645.0\n",
       "16797        608.0\n",
       "11644        930.0"
      ]
     },
     "execution_count": 7,
     "metadata": {},
     "output_type": "execute_result"
    }
   ],
   "source": [
    "#shuffling the data to denounce overfitting and proper sampling\n",
    "df_1=np.random.permutation(df.index)\n",
    "df_r=df.reindex(df_1)\n",
    "\n",
    "x=df_r[['total_rooms']]\n",
    "x.head()\n",
    "#print(type(x))"
   ]
  },
  {
   "cell_type": "markdown",
   "metadata": {
    "colab_type": "text",
    "id": "CD-_MWtgdolB"
   },
   "source": [
    "**STEP 3:** \n",
    "\n",
    "Here we randomly reindex and shuffle the data.Such random permutations help to reduce the chances of overfitting ,which is turns out to be a major problem in multivariate models and may be depicted closely in a univariate model as this one."
   ]
  },
  {
   "cell_type": "code",
   "execution_count": 8,
   "metadata": {
    "colab": {},
    "colab_type": "code",
    "id": "7Wvd9jiBPCIT"
   },
   "outputs": [],
   "source": [
    "y=df_r[['population']]"
   ]
  },
  {
   "cell_type": "code",
   "execution_count": 9,
   "metadata": {
    "colab": {
     "base_uri": "https://localhost:8080/",
     "height": 195
    },
    "colab_type": "code",
    "id": "DxBFssUzPCIW",
    "outputId": "7e7e78f5-9d99-4f49-f99e-512d6465568f"
   },
   "outputs": [
    {
     "data": {
      "text/html": [
       "<div>\n",
       "<style scoped>\n",
       "    .dataframe tbody tr th:only-of-type {\n",
       "        vertical-align: middle;\n",
       "    }\n",
       "\n",
       "    .dataframe tbody tr th {\n",
       "        vertical-align: top;\n",
       "    }\n",
       "\n",
       "    .dataframe thead th {\n",
       "        text-align: right;\n",
       "    }\n",
       "</style>\n",
       "<table border=\"1\" class=\"dataframe\">\n",
       "  <thead>\n",
       "    <tr style=\"text-align: right;\">\n",
       "      <th></th>\n",
       "      <th>population</th>\n",
       "    </tr>\n",
       "  </thead>\n",
       "  <tbody>\n",
       "    <tr>\n",
       "      <td>10903</td>\n",
       "      <td>1279.0</td>\n",
       "    </tr>\n",
       "    <tr>\n",
       "      <td>8781</td>\n",
       "      <td>1313.0</td>\n",
       "    </tr>\n",
       "    <tr>\n",
       "      <td>15515</td>\n",
       "      <td>2557.0</td>\n",
       "    </tr>\n",
       "    <tr>\n",
       "      <td>16797</td>\n",
       "      <td>281.0</td>\n",
       "    </tr>\n",
       "    <tr>\n",
       "      <td>11644</td>\n",
       "      <td>463.0</td>\n",
       "    </tr>\n",
       "  </tbody>\n",
       "</table>\n",
       "</div>"
      ],
      "text/plain": [
       "       population\n",
       "10903      1279.0\n",
       "8781       1313.0\n",
       "15515      2557.0\n",
       "16797       281.0\n",
       "11644       463.0"
      ]
     },
     "execution_count": 9,
     "metadata": {},
     "output_type": "execute_result"
    }
   ],
   "source": [
    "y.head()"
   ]
  },
  {
   "cell_type": "markdown",
   "metadata": {
    "colab_type": "text",
    "id": "erO0LZdffG58"
   },
   "source": [
    "**STEP 4:**\n",
    "\n",
    "As observed we now arrange our X and Y variables.\n",
    "For X variable we have chosen the 'total_rooms' column of data and the 'population' data column acts as the Y variable."
   ]
  },
  {
   "cell_type": "code",
   "execution_count": 10,
   "metadata": {
    "colab": {
     "base_uri": "https://localhost:8080/",
     "height": 347
    },
    "colab_type": "code",
    "id": "In9GkOH8PCIa",
    "outputId": "27743b56-69d1-41fd-cea0-86fb99414f31"
   },
   "outputs": [
    {
     "data": {
      "image/png": "[encoded data removed]",
      "text/plain": [
       "<Figure size 432x288 with 1 Axes>"
      ]
     },
     "metadata": {
      "needs_background": "light"
     },
     "output_type": "display_data"
    }
   ],
   "source": [
    "plt.plot(x,y,'*')\n",
    "plt.show()"
   ]
  },
  {
   "cell_type": "markdown",
   "metadata": {
    "colab_type": "text",
    "id": "hSzUTI2bgdzU"
   },
   "source": [
    "**STEP 5:**\n",
    "\n",
    "Initial plot of the acquired datapoints using the matplotlib function '.plot()'."
   ]
  },
  {
   "cell_type": "markdown",
   "metadata": {
    "colab_type": "text",
    "id": "c-1H07SIg2rJ"
   },
   "source": [
    "**STEP 6:**\n",
    "\n",
    "We take a close look at the formula that we are trying to implement in this exercise.\n",
    "\n",
    "![Formula](https://www.statisticshowto.datasciencecentral.com/wp-content/uploads/2009/11/linearregressionequations.bmp)"
   ]
  },
  {
   "cell_type": "markdown",
   "metadata": {
    "colab_type": "text",
    "id": "DLPCOZ_7iYge"
   },
   "source": [
    "We move forward to obtain each element in the formula and implement them in the referred formula to get our regression line."
   ]
  },
  {
   "cell_type": "code",
   "execution_count": 11,
   "metadata": {
    "colab": {},
    "colab_type": "code",
    "id": "mroRgIEyPCIf"
   },
   "outputs": [],
   "source": [
    "sum_x=df_r['total_rooms'].sum()\n",
    "sum_y=df_r['population'].sum()"
   ]
  },
  {
   "cell_type": "markdown",
   "metadata": {
    "colab_type": "text",
    "id": "qK7YkHVBinKa"
   },
   "source": [
    "Summation terms of each data column are gathered using '.sum()' function."
   ]
  },
  {
   "cell_type": "code",
   "execution_count": 12,
   "metadata": {
    "colab": {
     "base_uri": "https://localhost:8080/",
     "height": 50
    },
    "colab_type": "code",
    "id": "c-j8gCYbPCIi",
    "outputId": "fe5ea7e2-6b00-49f8-b4c9-f564bb93b602"
   },
   "outputs": [
    {
     "name": "stdout",
     "output_type": "stream",
     "text": [
      "44942295.0\n",
      "24302757.0\n"
     ]
    }
   ],
   "source": [
    "print(sum_x)\n",
    "print(sum_y)"
   ]
  },
  {
   "cell_type": "code",
   "execution_count": 13,
   "metadata": {
    "colab": {},
    "colab_type": "code",
    "id": "yeW0iTYcPCIm"
   },
   "outputs": [],
   "source": [
    "square_x=np.square(x)\n",
    "square_y=np.square(y)"
   ]
  },
  {
   "cell_type": "markdown",
   "metadata": {
    "colab_type": "text",
    "id": "vKk-Nbs1iw-y"
   },
   "source": [
    "Both of the above functions are used to gather the summation of squared terms.\n",
    "But please you must take not:\n",
    "\n",
    "![alt text](http://onlinestatbook.com/2/introduction/graphics/sum5.gif)"
   ]
  },
  {
   "cell_type": "code",
   "execution_count": 14,
   "metadata": {
    "colab": {},
    "colab_type": "code",
    "id": "Nj95ppiFPCIp"
   },
   "outputs": [],
   "source": [
    "#print(square_x)\n",
    "#print(square_y)\n",
    "prod_xy=df_r['population']*df_r['total_rooms']"
   ]
  },
  {
   "cell_type": "markdown",
   "metadata": {
    "colab_type": "text",
    "id": "B9fXeq9gkD_S"
   },
   "source": [
    "Summation of (x(i)*y(i)) terms are geneated."
   ]
  },
  {
   "cell_type": "code",
   "execution_count": 15,
   "metadata": {
    "colab": {
     "base_uri": "https://localhost:8080/",
     "height": 34
    },
    "colab_type": "code",
    "id": "pseao3aPPCIs",
    "outputId": "a44a1e4a-0435-4057-f9fa-ee1a456120a2"
   },
   "outputs": [
    {
     "data": {
      "text/plain": [
       "(17000, 9)"
      ]
     },
     "execution_count": 15,
     "metadata": {},
     "output_type": "execute_result"
    }
   ],
   "source": [
    "df_r.shape"
   ]
  },
  {
   "cell_type": "markdown",
   "metadata": {
    "colab_type": "text",
    "id": "n4JatY0AkM6P"
   },
   "source": [
    "'shape' function denoted the dimensionality of the DataFrame in question."
   ]
  },
  {
   "cell_type": "code",
   "execution_count": 16,
   "metadata": {
    "colab": {},
    "colab_type": "code",
    "id": "llFTaNXDPCIw"
   },
   "outputs": [],
   "source": [
    "n=17000"
   ]
  },
  {
   "cell_type": "code",
   "execution_count": 17,
   "metadata": {
    "colab": {},
    "colab_type": "code",
    "id": "8196LHRnPCIz"
   },
   "outputs": [],
   "source": [
    "square_x=square_x.sum()\n",
    "square_y=square_y.sum()"
   ]
  },
  {
   "cell_type": "code",
   "execution_count": 18,
   "metadata": {
    "colab": {
     "base_uri": "https://localhost:8080/",
     "height": 84
    },
    "colab_type": "code",
    "id": "liIXInAaPCI6",
    "outputId": "9eac5bfe-5140-4b50-f3d2-325694ab71d4"
   },
   "outputs": [
    {
     "name": "stdout",
     "output_type": "stream",
     "text": [
      "total_rooms    1.995945e+11\n",
      "dtype: float64\n",
      "population    5.713990e+10\n",
      "dtype: float64\n"
     ]
    }
   ],
   "source": [
    "print(square_x)\n",
    "print(square_y)"
   ]
  },
  {
   "cell_type": "code",
   "execution_count": 19,
   "metadata": {
    "colab": {},
    "colab_type": "code",
    "id": "PP8KWZTSPCI_"
   },
   "outputs": [],
   "source": [
    "prod_xy=prod_xy.sum()"
   ]
  },
  {
   "cell_type": "code",
   "execution_count": 20,
   "metadata": {
    "colab": {
     "base_uri": "https://localhost:8080/",
     "height": 34
    },
    "colab_type": "code",
    "id": "t0kbiGT1PCJB",
    "outputId": "e5cc3110-7db8-4b3c-eb69-091f2b1373c0"
   },
   "outputs": [
    {
     "name": "stdout",
     "output_type": "stream",
     "text": [
      "100836449592.0\n"
     ]
    }
   ],
   "source": [
    "print(prod_xy)"
   ]
  },
  {
   "cell_type": "code",
   "execution_count": 21,
   "metadata": {
    "colab": {},
    "colab_type": "code",
    "id": "RTSe56X3PCJG"
   },
   "outputs": [],
   "source": [
    "A=((sum_y*square_x)-(sum_x*prod_xy))/((17000*square_x)-(np.square(sum_x)))"
   ]
  },
  {
   "cell_type": "code",
   "execution_count": 22,
   "metadata": {
    "colab": {},
    "colab_type": "code",
    "id": "y8-_UL5SPCJJ"
   },
   "outputs": [],
   "source": [
    "B=((17000*prod_xy)-(sum_x*sum_y))/((17000*square_x)-(np.square(sum_x)))"
   ]
  },
  {
   "cell_type": "markdown",
   "metadata": {
    "colab_type": "text",
    "id": "XF4F_Rn3kdb4"
   },
   "source": [
    "The Final components are thus obtained."
   ]
  },
  {
   "cell_type": "code",
   "execution_count": 23,
   "metadata": {
    "colab": {
     "base_uri": "https://localhost:8080/",
     "height": 84
    },
    "colab_type": "code",
    "id": "PfkRVS0VPCJL",
    "outputId": "02876d46-e6e9-47d5-c7da-2b9298c14f06"
   },
   "outputs": [
    {
     "name": "stdout",
     "output_type": "stream",
     "text": [
      "total_rooms    232.196429\n",
      "dtype: float64\n",
      "total_rooms    0.452923\n",
      "dtype: float64\n"
     ]
    }
   ],
   "source": [
    "print(A)\n",
    "print(B)"
   ]
  },
  {
   "cell_type": "code",
   "execution_count": 24,
   "metadata": {
    "colab": {},
    "colab_type": "code",
    "id": "pIqRiofUPCJS"
   },
   "outputs": [],
   "source": [
    "net_y=B*x+A "
   ]
  },
  {
   "cell_type": "markdown",
   "metadata": {
    "colab_type": "text",
    "id": "w961Mpnzkkvu"
   },
   "source": [
    "The formula is thus put in place.\n",
    "\n",
    "![alt text](data:image/png;base64,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)"
   ]
  },
  {
   "cell_type": "code",
   "execution_count": 25,
   "metadata": {
    "colab": {
     "base_uri": "https://localhost:8080/",
     "height": 84
    },
    "colab_type": "code",
    "id": "MciRk8JhPCJV",
    "outputId": "4e1f5d3b-fe8d-45f8-a7cb-e9b8062d71eb"
   },
   "outputs": [
    {
     "name": "stdout",
     "output_type": "stream",
     "text": [
      "total_rooms    1.373296e+15\n",
      "dtype: float64\n",
      "population    3.807543e+14\n",
      "dtype: float64\n"
     ]
    }
   ],
   "source": [
    "#print(net_y)\n",
    "sq_x=(17000*square_x)-(np.square(sum_x))\n",
    "sq_y=(17000*square_y)-(np.square(sum_y))\n",
    "print(sq_x)\n",
    "print(sq_y)\n"
   ]
  },
  {
   "cell_type": "code",
   "execution_count": 26,
   "metadata": {
    "colab": {
     "base_uri": "https://localhost:8080/",
     "height": 364
    },
    "colab_type": "code",
    "id": "vI3yWq1jPCJc",
    "outputId": "19ee0c87-7986-4943-8f5d-5f4a0d727162"
   },
   "outputs": [
    {
     "data": {
      "text/plain": [
       "[<matplotlib.lines.Line2D at 0x7fda0ebbfd10>]"
      ]
     },
     "execution_count": 26,
     "metadata": {},
     "output_type": "execute_result"
    },
    {
     "data": {
      "image/png": "[encoded data removed]",
      "text/plain": [
       "<Figure size 432x288 with 1 Axes>"
      ]
     },
     "metadata": {
      "needs_background": "light"
     },
     "output_type": "display_data"
    }
   ],
   "source": [
    "plt.plot(x,y,'*')\n",
    "netx1=x[1:500]\n",
    "nety1=net_y[1:500]\n",
    "plt.plot(netx1,nety1,linewidth=2)"
   ]
  },
  {
   "cell_type": "markdown",
   "metadata": {
    "colab_type": "text",
    "id": "A8qsP7Gimppi"
   },
   "source": [
    "Plot of X with the Predicted Y values in the green line which shows that our predictive analysis is correct."
   ]
  },
  {
   "cell_type": "code",
   "execution_count": 27,
   "metadata": {
    "colab": {
     "base_uri": "https://localhost:8080/",
     "height": 364
    },
    "colab_type": "code",
    "id": "X9zJ9h1yPCJg",
    "outputId": "f29c0037-43cb-4a42-bef3-8e982d076136"
   },
   "outputs": [
    {
     "data": {
      "text/plain": [
       "[<matplotlib.lines.Line2D at 0x7fda0eb3a090>]"
      ]
     },
     "execution_count": 27,
     "metadata": {},
     "output_type": "execute_result"
    },
    {
     "data": {
      "image/png": "[encoded data removed]",
      "text/plain": [
       "<Figure size 432x288 with 1 Axes>"
      ]
     },
     "metadata": {
      "needs_background": "light"
     },
     "output_type": "display_data"
    }
   ],
   "source": [
    "y_real=y[1:500]\n",
    "plt.plot(netx1,y_real,linewidth=2)"
   ]
  },
  {
   "cell_type": "markdown",
   "metadata": {
    "colab_type": "text",
    "id": "WsnmhW9Dmvrm"
   },
   "source": [
    "Plot of X with the Acquired  DataSet Y values  "
   ]
  },
  {
   "cell_type": "markdown",
   "metadata": {
    "colab_type": "text",
    "id": "pJCxesl3ppDd"
   },
   "source": [
    "**STEP 7:**\n",
    "\n",
    "The Graphical plots are noted for accuracy."
   ]
  },
  {
   "cell_type": "code",
   "execution_count": null,
   "metadata": {
    "colab": {
     "base_uri": "https://localhost:8080/",
     "height": 50
    },
    "colab_type": "code",
    "id": "dN1qqvWaPCJj",
    "outputId": "e0bd743c-3e3a-4299-d11a-0998e1b0b694"
   },
   "outputs": [],
   "source": [
    "y.mean()"
   ]
  },
  {
   "cell_type": "code",
   "execution_count": null,
   "metadata": {
    "colab": {
     "base_uri": "https://localhost:8080/",
     "height": 50
    },
    "colab_type": "code",
    "id": "QU7c8vLSntRs",
    "outputId": "2b761a36-9c2a-42b1-cf0e-afc4c9777d2d"
   },
   "outputs": [],
   "source": [
    "net_y.mean()"
   ]
  },
  {
   "cell_type": "markdown",
   "metadata": {
    "colab_type": "text",
    "id": "V0Gj1FlLpwJI"
   },
   "source": [
    "We move another step forward and compare the mean values of our predicted data and the real data.\n",
    "In this exercise our predictions have given us almost no error in mean as we have used the exact formula based approach which may not always be the case.\n",
    "Again I just reiterate that a dataset that is fit for univariate analysis must be the preferred choice,or at least a comparitive pair of colums may be chosen from a multivariable dataset.\n",
    "# Thank You!"
   ]
  }
 ],
 "metadata": {
  "colab": {
   "name": "Univariate_statform.ipynb",
   "provenance": [],
   "version": "0.3.2"
  },
  "kernelspec": {
   "display_name": "Python 3",
   "language": "python",
   "name": "python3"
  },
  "language_info": {
   "codemirror_mode": {
    "name": "ipython",
    "version": 3
   },
   "file_extension": ".py",
   "mimetype": "text/x-python",
   "name": "python",
   "nbconvert_exporter": "python",
   "pygments_lexer": "ipython3",
   "version": "3.7.4"
  }
 },
 "nbformat": 4,
 "nbformat_minor": 1
}
